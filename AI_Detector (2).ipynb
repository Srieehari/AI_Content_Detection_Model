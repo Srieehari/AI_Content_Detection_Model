{
  "cells": [
    {
      "cell_type": "code",
      "execution_count": null,
      "metadata": {
        "id": "uHLsGTo4IkCd",
        "colab": {
          "base_uri": "https://localhost:8080/"
        },
        "outputId": "36ee334f-2ad2-4afd-ceda-e27e26829cf3"
      },
      "outputs": [
        {
          "output_type": "stream",
          "name": "stdout",
          "text": [
            "3.9.1\n"
          ]
        }
      ],
      "source": [
        "import nltk\n",
        "print(nltk.__version__)"
      ]
    },
    {
      "cell_type": "code",
      "execution_count": null,
      "metadata": {
        "id": "-aWGei9FI32j"
      },
      "outputs": [],
      "source": [
        "import pandas as pd\n",
        "import numpy as np\n",
        "import matplotlib.pyplot as plt\n",
        "import seaborn as sns\n",
        "import re\n",
        "\n",
        "from nltk.corpus import stopwords\n",
        "from sklearn.model_selection import train_test_split\n",
        "from sklearn.metrics import accuracy_score, classification_report\n",
        "from transformers import BertTokenizer, BertForSequenceClassification, AdamW\n",
        "import torch\n",
        "from torch.utils.data import DataLoader, TensorDataset, random_split"
      ]
    },
    {
      "cell_type": "code",
      "execution_count": null,
      "metadata": {
        "id": "GDiGgCZtLGjq",
        "colab": {
          "base_uri": "https://localhost:8080/"
        },
        "outputId": "6cb78694-a077-4035-af01-23e5da68d244"
      },
      "outputs": [
        {
          "output_type": "stream",
          "name": "stdout",
          "text": [
            "Repository does not exist. Cloning now...\n",
            "Cloning into 'LLM'...\n",
            "remote: Enumerating objects: 38, done.\u001b[K\n",
            "remote: Counting objects: 100% (38/38), done.\u001b[K\n",
            "remote: Compressing objects: 100% (35/35), done.\u001b[K\n",
            "remote: Total 38 (delta 3), reused 0 (delta 0), pack-reused 0 (from 0)\u001b[K\n",
            "Receiving objects: 100% (38/38), 24.57 MiB | 4.52 MiB/s, done.\n",
            "Resolving deltas: 100% (3/3), done.\n",
            "/content/LLM\n",
            "data  README.md\n"
          ]
        }
      ],
      "source": [
        "import os\n",
        "\n",
        "\n",
        "repo_name = \"LLM\"\n",
        "if not os.path.exists(repo_name):\n",
        "    print(\"Repository does not exist. Cloning now...\")\n",
        "\n",
        "    !git clone https://github.com/sakibsh/LLM.git\n",
        "else:\n",
        "    print(f\"Repository '{repo_name}' already exists.\")\n",
        "\n",
        "\n",
        "%cd LLM\n",
        "\n",
        "# List the files to verify the dataset\n",
        "!ls\n"
      ]
    },
    {
      "cell_type": "code",
      "execution_count": null,
      "metadata": {
        "id": "Iq1sx72hNyOo",
        "colab": {
          "base_uri": "https://localhost:8080/"
        },
        "outputId": "7de53846-4559-4e7f-e227-f230856d310c"
      },
      "outputs": [
        {
          "output_type": "stream",
          "name": "stdout",
          "text": [
            "BARD  file  GPT  Human\n"
          ]
        }
      ],
      "source": [
        "!ls data\n"
      ]
    },
    {
      "cell_type": "code",
      "execution_count": null,
      "metadata": {
        "id": "aHsUk9WRSMEI"
      },
      "outputs": [],
      "source": [
        "def load_file_with_prompts(file_path, content_type, source):\n",
        "    # Load the file\n",
        "    data = pd.read_csv(file_path)\n",
        "    # Keep both prompts and responses (BARD column)\n",
        "    data = data[['prompts', 'BARD']].rename(columns={'BARD': 'text'})\n",
        "    # Assign labels\n",
        "    data['content_type'] = content_type\n",
        "    data['source'] = source\n",
        "    return data"
      ]
    },
    {
      "cell_type": "code",
      "execution_count": null,
      "metadata": {
        "id": "i6YB1lyVSUfR"
      },
      "outputs": [],
      "source": [
        "bard_files = {\n",
        "    \"BARD_essay.csv\": \"essay\",\n",
        "    \"BARD_poetry.csv\": \"poetry\",\n",
        "    \"BARD_pycode.csv\": \"code\",\n",
        "    \"BARD_story.csv\": \"story\"\n",
        "}"
      ]
    },
    {
      "cell_type": "code",
      "execution_count": null,
      "metadata": {
        "id": "_WP8RUgbScYP"
      },
      "outputs": [],
      "source": [
        "base_dir = \"/content/LLM/data\""
      ]
    },
    {
      "cell_type": "code",
      "execution_count": null,
      "metadata": {
        "id": "TDbhRdOMSXWG"
      },
      "outputs": [],
      "source": [
        "bard_data = pd.concat(\n",
        "    [load_file_with_prompts(os.path.join(base_dir, \"BARD\", file), content_type, \"BARD\") for file, content_type in bard_files.items()],\n",
        "    ignore_index=True\n",
        ")"
      ]
    },
    {
      "cell_type": "code",
      "execution_count": null,
      "metadata": {
        "id": "m5U0jKpYSYto",
        "colab": {
          "base_uri": "https://localhost:8080/"
        },
        "outputId": "3773a56f-f759-4a4a-eb84-7735ffaa136c"
      },
      "outputs": [
        {
          "output_type": "stream",
          "name": "stdout",
          "text": [
            "BARD Data Shape: (997, 4)\n",
            "                                             prompts  \\\n",
            "0   According to some people, elderly drivers sho...   \n",
            "1   Many people believe that television violence ...   \n",
            "2   Medical researchers, cosmetic companies, and ...   \n",
            "3   In order to save money, your principal is thi...   \n",
            "4   Some people are actively involved in promotin...   \n",
            "\n",
            "                                                text content_type source  \n",
            "0  I think the issue of elderly drivers is a comp...        essay   BARD  \n",
            "1  \\nI agree that television violence has a negat...        essay   BARD  \n",
            "2  I understand the concerns of people who are op...        essay   BARD  \n",
            "3  Dear Principal,\\n\\nI am writing to you today t...        essay   BARD  \n",
            "4  Yes, there is a cause that I actively support:...        essay   BARD  \n"
          ]
        }
      ],
      "source": [
        "print(\"BARD Data Shape:\", bard_data.shape)\n",
        "print(bard_data.head())"
      ]
    },
    {
      "cell_type": "code",
      "execution_count": null,
      "metadata": {
        "id": "31apjt_WTB5E",
        "colab": {
          "base_uri": "https://localhost:8080/"
        },
        "outputId": "c4b70225-7113-4bd9-d382-63fc2a74965c"
      },
      "outputs": [
        {
          "output_type": "stream",
          "name": "stdout",
          "text": [
            "                                               prompts  \\\n",
            "992  Tell the story of a group of warriors chosen t...   \n",
            "993  Imagine a world where people have the power to...   \n",
            "994  Write a story about a character who can commun...   \n",
            "995  Tell the story of a person who discovers a hid...   \n",
            "996  Imagine a world where people have the ability ...   \n",
            "\n",
            "                                                  text content_type source  \n",
            "992  \\nThe year is 2042. The world is a very differ...        story   BARD  \n",
            "993  \\nThe year is 2042. The world is a very differ...        story   BARD  \n",
            "994  \\nThe girl's name was Akari, and she had a ver...        story   BARD  \n",
            "995  \\nThe year is 2042. The world is a very differ...        story   BARD  \n",
            "996  \\nThe year is 2042. The world is a very differ...        story   BARD  \n"
          ]
        }
      ],
      "source": [
        "print(bard_data.tail())"
      ]
    },
    {
      "cell_type": "code",
      "execution_count": null,
      "metadata": {
        "id": "pZX4VQCtTD53",
        "colab": {
          "base_uri": "https://localhost:8080/"
        },
        "outputId": "7de504a1-f371-4c31-9173-74ee174be4d4"
      },
      "outputs": [
        {
          "output_type": "stream",
          "name": "stdout",
          "text": [
            "Processing file: /content/LLM/data/GPT/ChatGPT_essay.csv\n",
            "Processing file: /content/LLM/data/GPT/ChatGPT_poetry.csv\n",
            "Processing file: /content/LLM/data/GPT/ChatGPT_pycode.csv\n",
            "Processing file: /content/LLM/data/GPT/ChatGPT_story.csv\n",
            "GPT Data Shape: (794, 4)\n",
            "                                             prompts  \\\n",
            "0   According to some people, elderly drivers sho...   \n",
            "1   Many people believe that television violence ...   \n",
            "2   Medical researchers, cosmetic companies, and ...   \n",
            "3   In order to save money, your principal is thi...   \n",
            "4   Some people are actively involved in promotin...   \n",
            "\n",
            "                                                text content_type source  \n",
            "0    On one hand, some elderly drivers may have h...        essay    GPT  \n",
            "1   Some people agree that television violence ha...        essay    GPT  \n",
            "2    Some of the pros of animal testing are:  Ani...        essay    GPT  \n",
            "3    Field trips are an important part of the edu...        essay    GPT  \n",
            "4    Climate change is a global issue that affect...        essay    GPT  \n"
          ]
        }
      ],
      "source": [
        "def load_file_with_prompts(file_path, content_type, source):\n",
        "    # Load the file\n",
        "    data = pd.read_csv(file_path)\n",
        "\n",
        "    # Check the file structure\n",
        "    if 'prompts' in data.columns and 'responses' in data.columns:\n",
        "        # Standard structure with prompts and responses\n",
        "        data = data[['prompts', 'responses']].rename(columns={'responses': 'text'})\n",
        "    elif 'Title' in data.columns and 'Chapter_text' in data.columns:\n",
        "        # Story structure with Title and Chapter_text\n",
        "        data = data[[\"Title\", \"Chapter_text\"]].rename(columns={\"Title\": \"prompts\", \"Chapter_text\": \"text\"})\n",
        "\n",
        "        # Add a placeholder for prompts\n",
        "\n",
        "    else:\n",
        "        raise ValueError(f\"Unknown file structure in file: {file_path}\")\n",
        "\n",
        "    # Assign labels\n",
        "    data['content_type'] = content_type\n",
        "    data['source'] = source\n",
        "    return data\n",
        "\n",
        "\n",
        "\n",
        "gpt_files = {\n",
        "    \"ChatGPT_essay.csv\": \"essay\",\n",
        "    \"ChatGPT_poetry.csv\": \"poetry\",\n",
        "    \"ChatGPT_pycode.csv\": \"code\",\n",
        "    \"ChatGPT_story.csv\": \"story\"\n",
        "}\n",
        "\n",
        "# Load and combine all GPT data\n",
        "processed_files = []\n",
        "for file, content_type in gpt_files.items():\n",
        "    file_path = os.path.join(base_dir, \"GPT\", file)\n",
        "    print(f\"Processing file: {file_path}\")\n",
        "    if not os.path.exists(file_path):\n",
        "        print(f\"Error: File not found: {file_path}\")\n",
        "        continue\n",
        "    try:\n",
        "        df = load_file_with_prompts(file_path, content_type, \"GPT\")\n",
        "        processed_files.append(df)\n",
        "    except ValueError as e:\n",
        "        print(e)\n",
        "\n",
        "gpt_data = pd.concat(processed_files, ignore_index=True)\n",
        "\n",
        "# Check combined GPT data\n",
        "print(\"GPT Data Shape:\", gpt_data.shape)\n",
        "print(gpt_data.head())\n"
      ]
    },
    {
      "cell_type": "code",
      "execution_count": null,
      "metadata": {
        "id": "ixOKVhMrTWiE"
      },
      "outputs": [],
      "source": [
        "def load_file_with_prompts(file_path, content_type, source):\n",
        "    # Load the file\n",
        "    data = pd.read_csv(file_path)\n",
        "\n",
        "    # Check the file structure\n",
        "    if 'Task' in data.columns and 'Code' in data.columns:\n",
        "        # Standard structure with prompts and responses\n",
        "        data = data[['Task', 'Code']].rename(columns={\"Task\": \"prompts\", \"Code\": \"text\"})\n",
        "    elif 'ID' in data.columns and 'essay' in data.columns:\n",
        "        # Story structure with Title and Chapter_text\n",
        "        data = data[[\"essay\"]].rename(columns={\"essay\": \"text\"})\n",
        "    elif 'ID' in data.columns and 'essays' in data.columns:\n",
        "        # Story structure with Title and Chapter_text\n",
        "        data = data[[\"essays\"]].rename(columns={\"essays\": \"text\"})\n",
        "\n",
        "    elif 'question' in data.columns and 'text' in data.columns:\n",
        "        data = data[[\"question\", \"text\"]].rename(columns={\"question\": \"prompts\"})\n",
        "\n",
        "    elif 'instructions' in data.columns and 'essays' in data.columns:\n",
        "        # Story structure with Title and Chapter_text\n",
        "        data = data[[\"instructions\",\"essays\" ]].rename(columns={\"instructions\": \"prompts\",\"essays\": \"text\"})\n",
        "\n",
        "    elif 'Poem' in data.columns and 'Poet' in data.columns:\n",
        "        # Story structure with Title and Chapter_text\n",
        "        data = data[[\"Poem\" ]].rename(columns={\"Poem\": \"text\"})\n",
        "\n",
        "\n",
        "    elif 'Title' in data.columns and 'Chapter_text' in data.columns:\n",
        "        # Human stories structure\n",
        "        data = data[[\"Title\", \"Chapter_text\"]].rename(columns={\"Title\": \"prompts\", \"Chapter_text\": \"text\"})\n",
        "    else:\n",
        "        raise ValueError(f\"Unknown file structure in file: {file_path}\")\n",
        "\n",
        "    # Assign labels\n",
        "    data['content_type'] = content_type\n",
        "    data['source'] = source\n",
        "    return data\n",
        "\n",
        "\n",
        "\n",
        "human_files = {\n",
        "    \"human_essay_1.csv\": \"essay\",\n",
        "    \"human_essay_2.csv\": \"essay\",\n",
        "    \"human_essay_hewlett.csv\": \"essay\",\n",
        "    \"human_essay_hugg.csv\": \"essay\",\n",
        "    \"human_poetry.csv\": \"poetry\",\n",
        "    \"human_code.csv\": \"code\",\n",
        "    \"human_stories.csv\": \"story\"\n",
        "}"
      ]
    },
    {
      "cell_type": "code",
      "execution_count": null,
      "metadata": {
        "id": "NIuXI3CwTZac",
        "colab": {
          "base_uri": "https://localhost:8080/"
        },
        "outputId": "f4d3b56f-03ab-4a59-deb6-52ea68325bb4"
      },
      "outputs": [
        {
          "output_type": "stream",
          "name": "stdout",
          "text": [
            "Processing file: /content/LLM/data/Human/human_essay_1.csv\n",
            "Processing file: /content/LLM/data/Human/human_essay_2.csv\n",
            "Processing file: /content/LLM/data/Human/human_essay_hewlett.csv\n",
            "Processing file: /content/LLM/data/Human/human_essay_hugg.csv\n",
            "Processing file: /content/LLM/data/Human/human_poetry.csv\n",
            "Processing file: /content/LLM/data/Human/human_code.csv\n",
            "Processing file: /content/LLM/data/Human/human_stories.csv\n"
          ]
        }
      ],
      "source": [
        "processed_files = []\n",
        "for file, content_type in human_files.items():\n",
        "    file_path = os.path.join(base_dir, \"Human\", file)\n",
        "    print(f\"Processing file: {file_path}\")\n",
        "    if not os.path.exists(file_path):\n",
        "        print(f\"Error: File not found: {file_path}\")\n",
        "        continue\n",
        "    try:\n",
        "        df = load_file_with_prompts(file_path, content_type, \"Human\")\n",
        "        processed_files.append(df)\n",
        "    except ValueError as e:\n",
        "        print(e)\n",
        "\n",
        "human_data = pd.concat(processed_files, ignore_index=True)"
      ]
    },
    {
      "cell_type": "code",
      "execution_count": null,
      "metadata": {
        "id": "wBn0ZJ8pP0C7",
        "colab": {
          "base_uri": "https://localhost:8080/",
          "height": 206
        },
        "outputId": "8e883ea0-cca6-4b61-c4aa-b988821bbeb9"
      },
      "outputs": [
        {
          "output_type": "execute_result",
          "data": {
            "text/plain": [
              "                                             prompts  \\\n",
              "0   According to some people, elderly drivers sho...   \n",
              "1   Many people believe that television violence ...   \n",
              "2   Medical researchers, cosmetic companies, and ...   \n",
              "3   In order to save money, your principal is thi...   \n",
              "4   Some people are actively involved in promotin...   \n",
              "\n",
              "                                                text content_type source  \n",
              "0    On one hand, some elderly drivers may have h...        essay    GPT  \n",
              "1   Some people agree that television violence ha...        essay    GPT  \n",
              "2    Some of the pros of animal testing are:  Ani...        essay    GPT  \n",
              "3    Field trips are an important part of the edu...        essay    GPT  \n",
              "4    Climate change is a global issue that affect...        essay    GPT  "
            ],
            "text/html": [
              "\n",
              "  <div id=\"df-49f4bc2a-976e-4468-b6d0-7187c1ae5a95\" class=\"colab-df-container\">\n",
              "    <div>\n",
              "<style scoped>\n",
              "    .dataframe tbody tr th:only-of-type {\n",
              "        vertical-align: middle;\n",
              "    }\n",
              "\n",
              "    .dataframe tbody tr th {\n",
              "        vertical-align: top;\n",
              "    }\n",
              "\n",
              "    .dataframe thead th {\n",
              "        text-align: right;\n",
              "    }\n",
              "</style>\n",
              "<table border=\"1\" class=\"dataframe\">\n",
              "  <thead>\n",
              "    <tr style=\"text-align: right;\">\n",
              "      <th></th>\n",
              "      <th>prompts</th>\n",
              "      <th>text</th>\n",
              "      <th>content_type</th>\n",
              "      <th>source</th>\n",
              "    </tr>\n",
              "  </thead>\n",
              "  <tbody>\n",
              "    <tr>\n",
              "      <th>0</th>\n",
              "      <td>According to some people, elderly drivers sho...</td>\n",
              "      <td>On one hand, some elderly drivers may have h...</td>\n",
              "      <td>essay</td>\n",
              "      <td>GPT</td>\n",
              "    </tr>\n",
              "    <tr>\n",
              "      <th>1</th>\n",
              "      <td>Many people believe that television violence ...</td>\n",
              "      <td>Some people agree that television violence ha...</td>\n",
              "      <td>essay</td>\n",
              "      <td>GPT</td>\n",
              "    </tr>\n",
              "    <tr>\n",
              "      <th>2</th>\n",
              "      <td>Medical researchers, cosmetic companies, and ...</td>\n",
              "      <td>Some of the pros of animal testing are:  Ani...</td>\n",
              "      <td>essay</td>\n",
              "      <td>GPT</td>\n",
              "    </tr>\n",
              "    <tr>\n",
              "      <th>3</th>\n",
              "      <td>In order to save money, your principal is thi...</td>\n",
              "      <td>Field trips are an important part of the edu...</td>\n",
              "      <td>essay</td>\n",
              "      <td>GPT</td>\n",
              "    </tr>\n",
              "    <tr>\n",
              "      <th>4</th>\n",
              "      <td>Some people are actively involved in promotin...</td>\n",
              "      <td>Climate change is a global issue that affect...</td>\n",
              "      <td>essay</td>\n",
              "      <td>GPT</td>\n",
              "    </tr>\n",
              "  </tbody>\n",
              "</table>\n",
              "</div>\n",
              "    <div class=\"colab-df-buttons\">\n",
              "\n",
              "  <div class=\"colab-df-container\">\n",
              "    <button class=\"colab-df-convert\" onclick=\"convertToInteractive('df-49f4bc2a-976e-4468-b6d0-7187c1ae5a95')\"\n",
              "            title=\"Convert this dataframe to an interactive table.\"\n",
              "            style=\"display:none;\">\n",
              "\n",
              "  <svg xmlns=\"http://www.w3.org/2000/svg\" height=\"24px\" viewBox=\"0 -960 960 960\">\n",
              "    <path d=\"M120-120v-720h720v720H120Zm60-500h600v-160H180v160Zm220 220h160v-160H400v160Zm0 220h160v-160H400v160ZM180-400h160v-160H180v160Zm440 0h160v-160H620v160ZM180-180h160v-160H180v160Zm440 0h160v-160H620v160Z\"/>\n",
              "  </svg>\n",
              "    </button>\n",
              "\n",
              "  <style>\n",
              "    .colab-df-container {\n",
              "      display:flex;\n",
              "      gap: 12px;\n",
              "    }\n",
              "\n",
              "    .colab-df-convert {\n",
              "      background-color: #E8F0FE;\n",
              "      border: none;\n",
              "      border-radius: 50%;\n",
              "      cursor: pointer;\n",
              "      display: none;\n",
              "      fill: #1967D2;\n",
              "      height: 32px;\n",
              "      padding: 0 0 0 0;\n",
              "      width: 32px;\n",
              "    }\n",
              "\n",
              "    .colab-df-convert:hover {\n",
              "      background-color: #E2EBFA;\n",
              "      box-shadow: 0px 1px 2px rgba(60, 64, 67, 0.3), 0px 1px 3px 1px rgba(60, 64, 67, 0.15);\n",
              "      fill: #174EA6;\n",
              "    }\n",
              "\n",
              "    .colab-df-buttons div {\n",
              "      margin-bottom: 4px;\n",
              "    }\n",
              "\n",
              "    [theme=dark] .colab-df-convert {\n",
              "      background-color: #3B4455;\n",
              "      fill: #D2E3FC;\n",
              "    }\n",
              "\n",
              "    [theme=dark] .colab-df-convert:hover {\n",
              "      background-color: #434B5C;\n",
              "      box-shadow: 0px 1px 3px 1px rgba(0, 0, 0, 0.15);\n",
              "      filter: drop-shadow(0px 1px 2px rgba(0, 0, 0, 0.3));\n",
              "      fill: #FFFFFF;\n",
              "    }\n",
              "  </style>\n",
              "\n",
              "    <script>\n",
              "      const buttonEl =\n",
              "        document.querySelector('#df-49f4bc2a-976e-4468-b6d0-7187c1ae5a95 button.colab-df-convert');\n",
              "      buttonEl.style.display =\n",
              "        google.colab.kernel.accessAllowed ? 'block' : 'none';\n",
              "\n",
              "      async function convertToInteractive(key) {\n",
              "        const element = document.querySelector('#df-49f4bc2a-976e-4468-b6d0-7187c1ae5a95');\n",
              "        const dataTable =\n",
              "          await google.colab.kernel.invokeFunction('convertToInteractive',\n",
              "                                                    [key], {});\n",
              "        if (!dataTable) return;\n",
              "\n",
              "        const docLinkHtml = 'Like what you see? Visit the ' +\n",
              "          '<a target=\"_blank\" href=https://colab.research.google.com/notebooks/data_table.ipynb>data table notebook</a>'\n",
              "          + ' to learn more about interactive tables.';\n",
              "        element.innerHTML = '';\n",
              "        dataTable['output_type'] = 'display_data';\n",
              "        await google.colab.output.renderOutput(dataTable, element);\n",
              "        const docLink = document.createElement('div');\n",
              "        docLink.innerHTML = docLinkHtml;\n",
              "        element.appendChild(docLink);\n",
              "      }\n",
              "    </script>\n",
              "  </div>\n",
              "\n",
              "\n",
              "<div id=\"df-c175d7d6-c465-4b9b-86cf-028a907672bf\">\n",
              "  <button class=\"colab-df-quickchart\" onclick=\"quickchart('df-c175d7d6-c465-4b9b-86cf-028a907672bf')\"\n",
              "            title=\"Suggest charts\"\n",
              "            style=\"display:none;\">\n",
              "\n",
              "<svg xmlns=\"http://www.w3.org/2000/svg\" height=\"24px\"viewBox=\"0 0 24 24\"\n",
              "     width=\"24px\">\n",
              "    <g>\n",
              "        <path d=\"M19 3H5c-1.1 0-2 .9-2 2v14c0 1.1.9 2 2 2h14c1.1 0 2-.9 2-2V5c0-1.1-.9-2-2-2zM9 17H7v-7h2v7zm4 0h-2V7h2v10zm4 0h-2v-4h2v4z\"/>\n",
              "    </g>\n",
              "</svg>\n",
              "  </button>\n",
              "\n",
              "<style>\n",
              "  .colab-df-quickchart {\n",
              "      --bg-color: #E8F0FE;\n",
              "      --fill-color: #1967D2;\n",
              "      --hover-bg-color: #E2EBFA;\n",
              "      --hover-fill-color: #174EA6;\n",
              "      --disabled-fill-color: #AAA;\n",
              "      --disabled-bg-color: #DDD;\n",
              "  }\n",
              "\n",
              "  [theme=dark] .colab-df-quickchart {\n",
              "      --bg-color: #3B4455;\n",
              "      --fill-color: #D2E3FC;\n",
              "      --hover-bg-color: #434B5C;\n",
              "      --hover-fill-color: #FFFFFF;\n",
              "      --disabled-bg-color: #3B4455;\n",
              "      --disabled-fill-color: #666;\n",
              "  }\n",
              "\n",
              "  .colab-df-quickchart {\n",
              "    background-color: var(--bg-color);\n",
              "    border: none;\n",
              "    border-radius: 50%;\n",
              "    cursor: pointer;\n",
              "    display: none;\n",
              "    fill: var(--fill-color);\n",
              "    height: 32px;\n",
              "    padding: 0;\n",
              "    width: 32px;\n",
              "  }\n",
              "\n",
              "  .colab-df-quickchart:hover {\n",
              "    background-color: var(--hover-bg-color);\n",
              "    box-shadow: 0 1px 2px rgba(60, 64, 67, 0.3), 0 1px 3px 1px rgba(60, 64, 67, 0.15);\n",
              "    fill: var(--button-hover-fill-color);\n",
              "  }\n",
              "\n",
              "  .colab-df-quickchart-complete:disabled,\n",
              "  .colab-df-quickchart-complete:disabled:hover {\n",
              "    background-color: var(--disabled-bg-color);\n",
              "    fill: var(--disabled-fill-color);\n",
              "    box-shadow: none;\n",
              "  }\n",
              "\n",
              "  .colab-df-spinner {\n",
              "    border: 2px solid var(--fill-color);\n",
              "    border-color: transparent;\n",
              "    border-bottom-color: var(--fill-color);\n",
              "    animation:\n",
              "      spin 1s steps(1) infinite;\n",
              "  }\n",
              "\n",
              "  @keyframes spin {\n",
              "    0% {\n",
              "      border-color: transparent;\n",
              "      border-bottom-color: var(--fill-color);\n",
              "      border-left-color: var(--fill-color);\n",
              "    }\n",
              "    20% {\n",
              "      border-color: transparent;\n",
              "      border-left-color: var(--fill-color);\n",
              "      border-top-color: var(--fill-color);\n",
              "    }\n",
              "    30% {\n",
              "      border-color: transparent;\n",
              "      border-left-color: var(--fill-color);\n",
              "      border-top-color: var(--fill-color);\n",
              "      border-right-color: var(--fill-color);\n",
              "    }\n",
              "    40% {\n",
              "      border-color: transparent;\n",
              "      border-right-color: var(--fill-color);\n",
              "      border-top-color: var(--fill-color);\n",
              "    }\n",
              "    60% {\n",
              "      border-color: transparent;\n",
              "      border-right-color: var(--fill-color);\n",
              "    }\n",
              "    80% {\n",
              "      border-color: transparent;\n",
              "      border-right-color: var(--fill-color);\n",
              "      border-bottom-color: var(--fill-color);\n",
              "    }\n",
              "    90% {\n",
              "      border-color: transparent;\n",
              "      border-bottom-color: var(--fill-color);\n",
              "    }\n",
              "  }\n",
              "</style>\n",
              "\n",
              "  <script>\n",
              "    async function quickchart(key) {\n",
              "      const quickchartButtonEl =\n",
              "        document.querySelector('#' + key + ' button');\n",
              "      quickchartButtonEl.disabled = true;  // To prevent multiple clicks.\n",
              "      quickchartButtonEl.classList.add('colab-df-spinner');\n",
              "      try {\n",
              "        const charts = await google.colab.kernel.invokeFunction(\n",
              "            'suggestCharts', [key], {});\n",
              "      } catch (error) {\n",
              "        console.error('Error during call to suggestCharts:', error);\n",
              "      }\n",
              "      quickchartButtonEl.classList.remove('colab-df-spinner');\n",
              "      quickchartButtonEl.classList.add('colab-df-quickchart-complete');\n",
              "    }\n",
              "    (() => {\n",
              "      let quickchartButtonEl =\n",
              "        document.querySelector('#df-c175d7d6-c465-4b9b-86cf-028a907672bf button');\n",
              "      quickchartButtonEl.style.display =\n",
              "        google.colab.kernel.accessAllowed ? 'block' : 'none';\n",
              "    })();\n",
              "  </script>\n",
              "</div>\n",
              "\n",
              "    </div>\n",
              "  </div>\n"
            ],
            "application/vnd.google.colaboratory.intrinsic+json": {
              "type": "dataframe",
              "variable_name": "gpt_data",
              "summary": "{\n  \"name\": \"gpt_data\",\n  \"rows\": 794,\n  \"fields\": [\n    {\n      \"column\": \"prompts\",\n      \"properties\": {\n        \"dtype\": \"string\",\n        \"num_unique_values\": 775,\n        \"samples\": [\n          \"Poetry title: Melodies of a Summer's Love\",\n          \"AI produced Fanfic\",\n          \"write a poem about a movie you watched\"\n        ],\n        \"semantic_type\": \"\",\n        \"description\": \"\"\n      }\n    },\n    {\n      \"column\": \"text\",\n      \"properties\": {\n        \"dtype\": \"string\",\n        \"num_unique_values\": 790,\n        \"samples\": [\n          \"Here's one way to write the code:\\n\\n```python\\ndef count_vowel_words(string):\\n    vowels = 'aeiouAEIOU'\\n    words = string.split()\\n    count = 0\\n    for word in words:\\n        if word[0] in vowels:\\n            count += 1\\n    return count\\n\\nprint(count_vowel_words('I am a Python developer'))\\n```\\n\\nOutput:\\n```\\n3\\n```\\n\\nExplanation:\\nWe define a function `count_vowel_words` that takes a string as input. We then define a string `vowels` containing all the vowels. We split the input string into a list of words using the `split()` method. We then initialize a variable `count` to 0 to keep track of the number of words that start with a vowel.\\n\\nWe then loop through each word in the `words` list, and check if its first letter is in the `vowels` string. If it is, we increment the `count` variable. Finally, we return the `count` variable which contains the total number of words that start with a vowel.\\n\\nIn this example, the input string has 3 words that start with a vowel - 'I', 'am', and 'a'.\",\n          \" From a market perspective, the high salaries of professional athletes are determined by the laws of supply and demand. The top athletes possess rare and valuable skills, and they are in high demand among fans, teams, and media outlets. Consequently, teams are willing to pay top dollar to attract and retain the best players, and fans are willing to pay for tickets, merchandise, and media access to watch their favorite players compete. In other words, the high compensation is a reflection of the market value of the athletes.  Another argument in favor of high athlete compensation is the short career span of most professional athletes. Unlike many other professions, athletes have a limited window of opportunity to earn money and establish financial security. The average career span of an NFL player, for instance, is less than four years. Given the risks and demands of professional sports, many athletes retire with long-term injuries and health problems that require ongoing medical care. The high compensation, therefore, can be seen as a form of insurance against the financial risks and uncertainties of a short athletic career.  On the other hand, some people argue that the high salaries of athletes are unjustified, given the societal and economic problems that exist in the world. Critics argue that the money spent on professional sports could be better used to address issues such as poverty, healthcare, education, and environmental sustainability. Some argue that the high salaries of athletes contribute to income inequality and perpetuate a culture of excessive consumption and materialism.  In conclusion, the issue of athlete compensation is complex and multifaceted. While there are valid arguments on both sides, the market-driven nature of the sports industry and the short career span of athletes are strong justifications for the high salaries of professional athletes. Ultimately, the question of whether athletes deserve such high compensation is a matter of personal opinion and values, and each individual should consider the arguments and evidence before making a judgment.               \",\n          \"Family, oh family,\\nA unit bound by love.\\nEach member unique,\\nLike feathers of a dove.\\n\\nThrough thick and thin,\\nWe stick together.\\nA bond unbreakable,\\nA love forever.\\n\\nFrom siblings to parents,\\nAnd grandparents too,\\nWe laugh, we cry,\\nAnd grow old anew.\\n\\nMemories made,\\nAnd stories to share,\\nOur family tree,\\nA lineage rare.\\n\\nDifferent personalities,\\nBut all under one roof,\\nA celebration of life,\\nAnd its precious proof.\\n\\nFamily, oh family,\\nOur constant support.\\nWe wouldn't be who we are,\\nWithout this loving cohort.\"\n        ],\n        \"semantic_type\": \"\",\n        \"description\": \"\"\n      }\n    },\n    {\n      \"column\": \"content_type\",\n      \"properties\": {\n        \"dtype\": \"category\",\n        \"num_unique_values\": 4,\n        \"samples\": [\n          \"poetry\",\n          \"story\",\n          \"essay\"\n        ],\n        \"semantic_type\": \"\",\n        \"description\": \"\"\n      }\n    },\n    {\n      \"column\": \"source\",\n      \"properties\": {\n        \"dtype\": \"category\",\n        \"num_unique_values\": 1,\n        \"samples\": [\n          \"GPT\"\n        ],\n        \"semantic_type\": \"\",\n        \"description\": \"\"\n      }\n    }\n  ]\n}"
            }
          },
          "metadata": {},
          "execution_count": 15
        }
      ],
      "source": [
        "gpt_data.head()"
      ]
    },
    {
      "cell_type": "code",
      "execution_count": null,
      "metadata": {
        "id": "gil5y2-aRGOi",
        "colab": {
          "base_uri": "https://localhost:8080/"
        },
        "outputId": "140a2c62-7812-4184-8b93-2c398f9a85b1"
      },
      "outputs": [
        {
          "output_type": "stream",
          "name": "stdout",
          "text": [
            "content_type\n",
            "poetry    250\n",
            "code      249\n",
            "essay     200\n",
            "story      95\n",
            "Name: count, dtype: int64\n",
            "content_type\n",
            "story     300\n",
            "poetry    250\n",
            "code      249\n",
            "essay     198\n",
            "Name: count, dtype: int64\n"
          ]
        }
      ],
      "source": [
        "print(gpt_data['content_type'].value_counts())\n",
        "print(bard_data['content_type'].value_counts())"
      ]
    },
    {
      "cell_type": "code",
      "execution_count": null,
      "metadata": {
        "id": "0CkHoLJYPflI"
      },
      "outputs": [],
      "source": [
        " # Check unique values in the content_type column\n"
      ]
    },
    {
      "cell_type": "code",
      "execution_count": null,
      "metadata": {
        "id": "1Mjm0FDFQhUh",
        "colab": {
          "base_uri": "https://localhost:8080/"
        },
        "outputId": "83be78ca-7345-44f3-8fbc-d907285624ff"
      },
      "outputs": [
        {
          "output_type": "stream",
          "name": "stdout",
          "text": [
            "                                                text content_type source  \\\n",
            "0  I just got back from your class, so I decided ...        essay  Human   \n",
            "1  It is 9:35 and I am beginning my stream of con...        essay  Human   \n",
            "2  Not only was the server down but it has taken ...        essay  Human   \n",
            "3  I am not exactly sure how this is supposed to ...        essay  Human   \n",
            "4  Well, here I am on Friday, September something...        essay  Human   \n",
            "\n",
            "  prompts  \n",
            "0     NaN  \n",
            "1     NaN  \n",
            "2     NaN  \n",
            "3     NaN  \n",
            "4     NaN  \n",
            "content_type\n",
            "essay     17680\n",
            "poetry    13854\n",
            "code       4608\n",
            "story       180\n",
            "Name: count, dtype: int64\n"
          ]
        }
      ],
      "source": [
        "print(human_data.head())\n",
        "print(human_data['content_type'].value_counts())\n"
      ]
    },
    {
      "cell_type": "code",
      "execution_count": null,
      "metadata": {
        "id": "NXitShRxQmsn",
        "colab": {
          "base_uri": "https://localhost:8080/"
        },
        "outputId": "aa25e054-cb8d-4607-95bc-611cc991071d"
      },
      "outputs": [
        {
          "output_type": "stream",
          "name": "stdout",
          "text": [
            "Index(['text', 'content_type', 'source', 'prompts'], dtype='object')\n",
            "['essay' 'poetry' 'code' 'story']\n"
          ]
        }
      ],
      "source": [
        "print(human_data.columns)  # List all columns\n",
        "print(human_data['content_type'].unique())"
      ]
    },
    {
      "cell_type": "code",
      "execution_count": null,
      "metadata": {
        "id": "c7I3DYIiNPS7",
        "colab": {
          "base_uri": "https://localhost:8080/"
        },
        "outputId": "e1564d5b-266c-4e01-df71-a55d0a2e1f75"
      },
      "outputs": [
        {
          "output_type": "stream",
          "name": "stdout",
          "text": [
            "New Distribution of Content Types:\n",
            "content_type\n",
            "essay     1000\n",
            "code      1000\n",
            "poetry    1000\n",
            "story      180\n",
            "Name: count, dtype: int64\n"
          ]
        },
        {
          "output_type": "stream",
          "name": "stderr",
          "text": [
            "<ipython-input-20-7e01dfbcd394>:11: DeprecationWarning: DataFrameGroupBy.apply operated on the grouping columns. This behavior is deprecated, and in a future version of pandas the grouping columns will be excluded from the operation. Either pass `include_groups=False` to exclude the groupings or explicitly select the grouping columns after groupby to silence this warning.\n",
            "  balanced_human_data = human_data.groupby('content_type', group_keys=False).apply(downsample_group)\n"
          ]
        }
      ],
      "source": [
        "# Set the maximum size per content type\n",
        "max_samples_per_type = 1000\n",
        "\n",
        "# Function to downsample or keep data as is\n",
        "def downsample_group(group):\n",
        "    if len(group) > max_samples_per_type:\n",
        "        return group.sample(n=max_samples_per_type, random_state=42)\n",
        "    return group\n",
        "\n",
        "# Group by content_type and apply downsampling\n",
        "balanced_human_data = human_data.groupby('content_type', group_keys=False).apply(downsample_group)\n",
        "\n",
        "# Shuffle the dataset to mix all content types\n",
        "balanced_human_data = balanced_human_data.sample(frac=1, random_state=42).reset_index(drop=True)\n",
        "\n",
        "# Check the new distribution\n",
        "print(\"New Distribution of Content Types:\")\n",
        "print(balanced_human_data['content_type'].value_counts())\n"
      ]
    },
    {
      "cell_type": "code",
      "execution_count": null,
      "metadata": {
        "id": "2ck9GzcSTdeV"
      },
      "outputs": [],
      "source": [
        "all_data = pd.concat([bard_data, gpt_data, balanced_human_data], ignore_index= True)\n",
        "\n",
        "all_data = all_data.sample(frac=1, random_state=42).reset_index(drop=True)"
      ]
    },
    {
      "cell_type": "code",
      "execution_count": null,
      "metadata": {
        "id": "bXopuFARTgGP",
        "colab": {
          "base_uri": "https://localhost:8080/"
        },
        "outputId": "df3e8056-a858-4e37-ee84-d4f5ead4fdb5"
      },
      "outputs": [
        {
          "output_type": "stream",
          "name": "stdout",
          "text": [
            "(3180, 4)\n",
            "(794, 4)\n",
            "(997, 4)\n"
          ]
        }
      ],
      "source": [
        "print(balanced_human_data.shape)\n",
        "print(gpt_data.shape)\n",
        "print(bard_data.shape)"
      ]
    },
    {
      "cell_type": "code",
      "execution_count": null,
      "metadata": {
        "id": "4w-c51LrTkHG",
        "colab": {
          "base_uri": "https://localhost:8080/"
        },
        "outputId": "62975fc5-ed0b-4334-dfbd-775baf198d13"
      },
      "outputs": [
        {
          "output_type": "stream",
          "name": "stdout",
          "text": [
            "(4971, 4)\n"
          ]
        }
      ],
      "source": [
        "print(all_data.shape)"
      ]
    },
    {
      "cell_type": "code",
      "execution_count": null,
      "metadata": {
        "id": "qDSpa0h_TmhB",
        "colab": {
          "base_uri": "https://localhost:8080/"
        },
        "outputId": "e73d0934-2ba5-4c82-ccd6-9a33b4bd5e10"
      },
      "outputs": [
        {
          "output_type": "stream",
          "name": "stdout",
          "text": [
            "Data after cleaning:\n",
            "<class 'pandas.core.frame.DataFrame'>\n",
            "Index: 4897 entries, 0 to 4970\n",
            "Data columns (total 4 columns):\n",
            " #   Column        Non-Null Count  Dtype \n",
            "---  ------        --------------  ----- \n",
            " 0   prompts       3026 non-null   object\n",
            " 1   text          4897 non-null   object\n",
            " 2   content_type  4897 non-null   object\n",
            " 3   source        4897 non-null   object\n",
            "dtypes: object(4)\n",
            "memory usage: 191.3+ KB\n",
            "None\n"
          ]
        },
        {
          "output_type": "stream",
          "name": "stderr",
          "text": [
            "<ipython-input-24-eb91f777014c>:4: SettingWithCopyWarning: \n",
            "A value is trying to be set on a copy of a slice from a DataFrame.\n",
            "Try using .loc[row_indexer,col_indexer] = value instead\n",
            "\n",
            "See the caveats in the documentation: https://pandas.pydata.org/pandas-docs/stable/user_guide/indexing.html#returning-a-view-versus-a-copy\n",
            "  data['text'] = data['text'].str.strip()\n",
            "<ipython-input-24-eb91f777014c>:5: SettingWithCopyWarning: \n",
            "A value is trying to be set on a copy of a slice from a DataFrame.\n",
            "Try using .loc[row_indexer,col_indexer] = value instead\n",
            "\n",
            "See the caveats in the documentation: https://pandas.pydata.org/pandas-docs/stable/user_guide/indexing.html#returning-a-view-versus-a-copy\n",
            "  data['prompts'] = data['prompts'].str.strip()\n"
          ]
        }
      ],
      "source": [
        "data = all_data.dropna(subset=['text'])\n",
        "\n",
        "\n",
        "data['text'] = data['text'].str.strip()\n",
        "data['prompts'] = data['prompts'].str.strip()\n",
        "\n",
        "print(\"Data after cleaning:\")\n",
        "print(data.info())"
      ]
    },
    {
      "cell_type": "code",
      "execution_count": null,
      "metadata": {
        "id": "5aQslbR6TpXr",
        "colab": {
          "base_uri": "https://localhost:8080/",
          "height": 1000
        },
        "outputId": "537dd85c-7e1d-46a9-cb58-823af4044922"
      },
      "outputs": [
        {
          "output_type": "stream",
          "name": "stdout",
          "text": [
            "Content Type Distribution:\n",
            "content_type\n",
            "poetry    1500\n",
            "code      1430\n",
            "essay     1398\n",
            "story      569\n",
            "Name: count, dtype: int64\n",
            "\n",
            "Source Distribution:\n",
            "source\n",
            "Human    3112\n",
            "BARD      995\n",
            "GPT       790\n",
            "Name: count, dtype: int64\n"
          ]
        },
        {
          "output_type": "display_data",
          "data": {
            "text/plain": [
              "<Figure size 640x480 with 1 Axes>"
            ],
            "image/png": "[encoded data removed]"
          },
          "metadata": {}
        },
        {
          "output_type": "display_data",
          "data": {
            "text/plain": [
              "<Figure size 640x480 with 1 Axes>"
            ],
            "image/png": "[encoded data removed]"
          },
          "metadata": {}
        }
      ],
      "source": [
        "\n",
        "print(\"Content Type Distribution:\")\n",
        "print(data['content_type'].value_counts())\n",
        "\n",
        "print(\"\\nSource Distribution:\")\n",
        "print(data['source'].value_counts())\n",
        "\n",
        "# Visualize distributions\n",
        "import seaborn as sns\n",
        "import matplotlib.pyplot as plt\n",
        "\n",
        "sns.countplot(x='content_type', data=data)\n",
        "plt.title(\"Content Type Distribution\")\n",
        "plt.show()\n",
        "\n",
        "sns.countplot(x='source', data=data)\n",
        "plt.title(\"Source Distribution\")\n",
        "plt.show()\n"
      ]
    },
    {
      "cell_type": "code",
      "execution_count": null,
      "metadata": {
        "id": "0RTabV0RTrEM"
      },
      "outputs": [],
      "source": [
        "# Separate data by content type\n",
        "code_data = data[data['content_type'] == 'code']\n",
        "story_data = data[data['content_type'] == 'story']\n",
        "essay_data = data[data['content_type'] == 'essay']\n",
        "poetry_data = data[data['content_type'] == 'poetry']\n"
      ]
    },
    {
      "cell_type": "code",
      "execution_count": null,
      "metadata": {
        "id": "_ZlYBnXZTu14",
        "colab": {
          "base_uri": "https://localhost:8080/"
        },
        "outputId": "47d86d8f-bc71-48ac-afa2-3a3de2afa72c"
      },
      "outputs": [
        {
          "output_type": "stream",
          "name": "stdout",
          "text": [
            "Requirement already satisfied: transformers in /usr/local/lib/python3.11/dist-packages (4.47.1)\n",
            "Requirement already satisfied: torch in /usr/local/lib/python3.11/dist-packages (2.5.1+cu121)\n",
            "Requirement already satisfied: scikit-learn in /usr/local/lib/python3.11/dist-packages (1.6.0)\n",
            "Collecting datasets\n",
            "  Downloading datasets-3.2.0-py3-none-any.whl.metadata (20 kB)\n",
            "Requirement already satisfied: filelock in /usr/local/lib/python3.11/dist-packages (from transformers) (3.16.1)\n",
            "Requirement already satisfied: huggingface-hub<1.0,>=0.24.0 in /usr/local/lib/python3.11/dist-packages (from transformers) (0.27.1)\n",
            "Requirement already satisfied: numpy>=1.17 in /usr/local/lib/python3.11/dist-packages (from transformers) (1.26.4)\n",
            "Requirement already satisfied: packaging>=20.0 in /usr/local/lib/python3.11/dist-packages (from transformers) (24.2)\n",
            "Requirement already satisfied: pyyaml>=5.1 in /usr/local/lib/python3.11/dist-packages (from transformers) (6.0.2)\n",
            "Requirement already satisfied: regex!=2019.12.17 in /usr/local/lib/python3.11/dist-packages (from transformers) (2024.11.6)\n",
            "Requirement already satisfied: requests in /usr/local/lib/python3.11/dist-packages (from transformers) (2.32.3)\n",
            "Requirement already satisfied: tokenizers<0.22,>=0.21 in /usr/local/lib/python3.11/dist-packages (from transformers) (0.21.0)\n",
            "Requirement already satisfied: safetensors>=0.4.1 in /usr/local/lib/python3.11/dist-packages (from transformers) (0.5.2)\n",
            "Requirement already satisfied: tqdm>=4.27 in /usr/local/lib/python3.11/dist-packages (from transformers) (4.67.1)\n",
            "Requirement already satisfied: typing-extensions>=4.8.0 in /usr/local/lib/python3.11/dist-packages (from torch) (4.12.2)\n",
            "Requirement already satisfied: networkx in /usr/local/lib/python3.11/dist-packages (from torch) (3.4.2)\n",
            "Requirement already satisfied: jinja2 in /usr/local/lib/python3.11/dist-packages (from torch) (3.1.5)\n",
            "Requirement already satisfied: fsspec in /usr/local/lib/python3.11/dist-packages (from torch) (2024.10.0)\n",
            "Requirement already satisfied: nvidia-cuda-nvrtc-cu12==12.1.105 in /usr/local/lib/python3.11/dist-packages (from torch) (12.1.105)\n",
            "Requirement already satisfied: nvidia-cuda-runtime-cu12==12.1.105 in /usr/local/lib/python3.11/dist-packages (from torch) (12.1.105)\n",
            "Requirement already satisfied: nvidia-cuda-cupti-cu12==12.1.105 in /usr/local/lib/python3.11/dist-packages (from torch) (12.1.105)\n",
            "Requirement already satisfied: nvidia-cudnn-cu12==9.1.0.70 in /usr/local/lib/python3.11/dist-packages (from torch) (9.1.0.70)\n",
            "Requirement already satisfied: nvidia-cublas-cu12==12.1.3.1 in /usr/local/lib/python3.11/dist-packages (from torch) (12.1.3.1)\n",
            "Requirement already satisfied: nvidia-cufft-cu12==11.0.2.54 in /usr/local/lib/python3.11/dist-packages (from torch) (11.0.2.54)\n",
            "Requirement already satisfied: nvidia-curand-cu12==10.3.2.106 in /usr/local/lib/python3.11/dist-packages (from torch) (10.3.2.106)\n",
            "Requirement already satisfied: nvidia-cusolver-cu12==11.4.5.107 in /usr/local/lib/python3.11/dist-packages (from torch) (11.4.5.107)\n",
            "Requirement already satisfied: nvidia-cusparse-cu12==12.1.0.106 in /usr/local/lib/python3.11/dist-packages (from torch) (12.1.0.106)\n",
            "Requirement already satisfied: nvidia-nccl-cu12==2.21.5 in /usr/local/lib/python3.11/dist-packages (from torch) (2.21.5)\n",
            "Requirement already satisfied: nvidia-nvtx-cu12==12.1.105 in /usr/local/lib/python3.11/dist-packages (from torch) (12.1.105)\n",
            "Requirement already satisfied: triton==3.1.0 in /usr/local/lib/python3.11/dist-packages (from torch) (3.1.0)\n",
            "Requirement already satisfied: sympy==1.13.1 in /usr/local/lib/python3.11/dist-packages (from torch) (1.13.1)\n",
            "Requirement already satisfied: nvidia-nvjitlink-cu12 in /usr/local/lib/python3.11/dist-packages (from nvidia-cusolver-cu12==11.4.5.107->torch) (12.6.85)\n",
            "Requirement already satisfied: mpmath<1.4,>=1.1.0 in /usr/local/lib/python3.11/dist-packages (from sympy==1.13.1->torch) (1.3.0)\n",
            "Requirement already satisfied: scipy>=1.6.0 in /usr/local/lib/python3.11/dist-packages (from scikit-learn) (1.13.1)\n",
            "Requirement already satisfied: joblib>=1.2.0 in /usr/local/lib/python3.11/dist-packages (from scikit-learn) (1.4.2)\n",
            "Requirement already satisfied: threadpoolctl>=3.1.0 in /usr/local/lib/python3.11/dist-packages (from scikit-learn) (3.5.0)\n",
            "Requirement already satisfied: pyarrow>=15.0.0 in /usr/local/lib/python3.11/dist-packages (from datasets) (17.0.0)\n",
            "Collecting dill<0.3.9,>=0.3.0 (from datasets)\n",
            "  Downloading dill-0.3.8-py3-none-any.whl.metadata (10 kB)\n",
            "Requirement already satisfied: pandas in /usr/local/lib/python3.11/dist-packages (from datasets) (2.2.2)\n",
            "Collecting xxhash (from datasets)\n",
            "  Downloading xxhash-3.5.0-cp311-cp311-manylinux_2_17_x86_64.manylinux2014_x86_64.whl.metadata (12 kB)\n",
            "Collecting multiprocess<0.70.17 (from datasets)\n",
            "  Downloading multiprocess-0.70.16-py311-none-any.whl.metadata (7.2 kB)\n",
            "Collecting fsspec (from torch)\n",
            "  Downloading fsspec-2024.9.0-py3-none-any.whl.metadata (11 kB)\n",
            "Requirement already satisfied: aiohttp in /usr/local/lib/python3.11/dist-packages (from datasets) (3.11.11)\n",
            "Requirement already satisfied: aiohappyeyeballs>=2.3.0 in /usr/local/lib/python3.11/dist-packages (from aiohttp->datasets) (2.4.4)\n",
            "Requirement already satisfied: aiosignal>=1.1.2 in /usr/local/lib/python3.11/dist-packages (from aiohttp->datasets) (1.3.2)\n",
            "Requirement already satisfied: attrs>=17.3.0 in /usr/local/lib/python3.11/dist-packages (from aiohttp->datasets) (24.3.0)\n",
            "Requirement already satisfied: frozenlist>=1.1.1 in /usr/local/lib/python3.11/dist-packages (from aiohttp->datasets) (1.5.0)\n",
            "Requirement already satisfied: multidict<7.0,>=4.5 in /usr/local/lib/python3.11/dist-packages (from aiohttp->datasets) (6.1.0)\n",
            "Requirement already satisfied: propcache>=0.2.0 in /usr/local/lib/python3.11/dist-packages (from aiohttp->datasets) (0.2.1)\n",
            "Requirement already satisfied: yarl<2.0,>=1.17.0 in /usr/local/lib/python3.11/dist-packages (from aiohttp->datasets) (1.18.3)\n",
            "Requirement already satisfied: charset-normalizer<4,>=2 in /usr/local/lib/python3.11/dist-packages (from requests->transformers) (3.4.1)\n",
            "Requirement already satisfied: idna<4,>=2.5 in /usr/local/lib/python3.11/dist-packages (from requests->transformers) (3.10)\n",
            "Requirement already satisfied: urllib3<3,>=1.21.1 in /usr/local/lib/python3.11/dist-packages (from requests->transformers) (2.3.0)\n",
            "Requirement already satisfied: certifi>=2017.4.17 in /usr/local/lib/python3.11/dist-packages (from requests->transformers) (2024.12.14)\n",
            "Requirement already satisfied: MarkupSafe>=2.0 in /usr/local/lib/python3.11/dist-packages (from jinja2->torch) (3.0.2)\n",
            "Requirement already satisfied: python-dateutil>=2.8.2 in /usr/local/lib/python3.11/dist-packages (from pandas->datasets) (2.8.2)\n",
            "Requirement already satisfied: pytz>=2020.1 in /usr/local/lib/python3.11/dist-packages (from pandas->datasets) (2024.2)\n",
            "Requirement already satisfied: tzdata>=2022.7 in /usr/local/lib/python3.11/dist-packages (from pandas->datasets) (2024.2)\n",
            "Requirement already satisfied: six>=1.5 in /usr/local/lib/python3.11/dist-packages (from python-dateutil>=2.8.2->pandas->datasets) (1.17.0)\n",
            "Downloading datasets-3.2.0-py3-none-any.whl (480 kB)\n",
            "\u001b[2K   \u001b[90m━━━━━━━━━━━━━━━━━━━━━━━━━━━━━━━━━━━━━━━━\u001b[0m \u001b[32m480.6/480.6 kB\u001b[0m \u001b[31m33.8 MB/s\u001b[0m eta \u001b[36m0:00:00\u001b[0m\n",
            "\u001b[?25hDownloading dill-0.3.8-py3-none-any.whl (116 kB)\n",
            "\u001b[2K   \u001b[90m━━━━━━━━━━━━━━━━━━━━━━━━━━━━━━━━━━━━━━━━\u001b[0m \u001b[32m116.3/116.3 kB\u001b[0m \u001b[31m12.5 MB/s\u001b[0m eta \u001b[36m0:00:00\u001b[0m\n",
            "\u001b[?25hDownloading fsspec-2024.9.0-py3-none-any.whl (179 kB)\n",
            "\u001b[2K   \u001b[90m━━━━━━━━━━━━━━━━━━━━━━━━━━━━━━━━━━━━━━━━\u001b[0m \u001b[32m179.3/179.3 kB\u001b[0m \u001b[31m17.1 MB/s\u001b[0m eta \u001b[36m0:00:00\u001b[0m\n",
            "\u001b[?25hDownloading multiprocess-0.70.16-py311-none-any.whl (143 kB)\n",
            "\u001b[2K   \u001b[90m━━━━━━━━━━━━━━━━━━━━━━━━━━━━━━━━━━━━━━━━\u001b[0m \u001b[32m143.5/143.5 kB\u001b[0m \u001b[31m14.3 MB/s\u001b[0m eta \u001b[36m0:00:00\u001b[0m\n",
            "\u001b[?25hDownloading xxhash-3.5.0-cp311-cp311-manylinux_2_17_x86_64.manylinux2014_x86_64.whl (194 kB)\n",
            "\u001b[2K   \u001b[90m━━━━━━━━━━━━━━━━━━━━━━━━━━━━━━━━━━━━━━━━\u001b[0m \u001b[32m194.8/194.8 kB\u001b[0m \u001b[31m20.4 MB/s\u001b[0m eta \u001b[36m0:00:00\u001b[0m\n",
            "\u001b[?25hInstalling collected packages: xxhash, fsspec, dill, multiprocess, datasets\n",
            "  Attempting uninstall: fsspec\n",
            "    Found existing installation: fsspec 2024.10.0\n",
            "    Uninstalling fsspec-2024.10.0:\n",
            "      Successfully uninstalled fsspec-2024.10.0\n",
            "\u001b[31mERROR: pip's dependency resolver does not currently take into account all the packages that are installed. This behaviour is the source of the following dependency conflicts.\n",
            "gcsfs 2024.10.0 requires fsspec==2024.10.0, but you have fsspec 2024.9.0 which is incompatible.\u001b[0m\u001b[31m\n",
            "\u001b[0mSuccessfully installed datasets-3.2.0 dill-0.3.8 fsspec-2024.9.0 multiprocess-0.70.16 xxhash-3.5.0\n"
          ]
        }
      ],
      "source": [
        "pip install transformers torch scikit-learn datasets\n"
      ]
    },
    {
      "cell_type": "code",
      "execution_count": null,
      "metadata": {
        "id": "FoxBjJU9T_s1"
      },
      "outputs": [],
      "source": [
        "content_types = [\"code\", \"essay\", \"poetry\", \"story\"]\n",
        "\n",
        "datasets = {}\n",
        "for content_type in content_types:\n",
        "    subset = data[data[\"content_type\"] == content_type]\n",
        "    X_train, X_test, y_train, y_test = train_test_split(\n",
        "        subset[\"text\"], subset[\"source\"], test_size=0.2, stratify=subset[\"source\"], random_state=42\n",
        "    )\n",
        "    datasets[content_type] = {\n",
        "        \"X_train\": X_train,\n",
        "        \"X_test\": X_test,\n",
        "        \"y_train\": y_train,\n",
        "        \"y_test\": y_test,\n",
        "    }"
      ]
    },
    {
      "cell_type": "code",
      "execution_count": null,
      "metadata": {
        "id": "68NoeFFzUCVO",
        "colab": {
          "base_uri": "https://localhost:8080/"
        },
        "outputId": "fca423cd-a4c5-42d0-a86f-f6743da97a54"
      },
      "outputs": [
        {
          "output_type": "stream",
          "name": "stdout",
          "text": [
            "{'BARD': 0, 'GPT': 1, 'Human': 2}\n"
          ]
        }
      ],
      "source": [
        "from sklearn.preprocessing import LabelEncoder\n",
        "\n",
        "label_encoder = LabelEncoder()\n",
        "for content_type in content_types:\n",
        "    datasets[content_type][\"y_train_encoded\"] = label_encoder.fit_transform(datasets[content_type][\"y_train\"])\n",
        "    datasets[content_type][\"y_test_encoded\"] = label_encoder.transform(datasets[content_type][\"y_test\"])\n",
        "\n",
        "# Save the label mapping for later use\n",
        "label_mapping = dict(zip(label_encoder.classes_, label_encoder.transform(label_encoder.classes_)))\n",
        "print(label_mapping)  # Example: {'Human': 0, 'BARD': 1, 'GPT': 2}\n"
      ]
    },
    {
      "cell_type": "code",
      "execution_count": null,
      "metadata": {
        "id": "GB6ItKSSUEi-",
        "colab": {
          "base_uri": "https://localhost:8080/",
          "height": 249,
          "referenced_widgets": [
            "2e7963cd64e4454ab0f17bde66797d42",
            "9c1ca813d92949f9b5d8c38d0a4b94e5",
            "68fa095f800b497f86b99dc5254d30b2",
            "2ba3a76c6209486399f8d8e577ab763c",
            "accf5ddcbcb64e9a983aec6f4172c6bd",
            "7c79409623c64ae985303c67b3496eaf",
            "634b603a96d24210a015115eeeb438ba",
            "0cdb77c154074059b66e81b7a5616f2a",
            "6fe25d76a83d4bffb4e4d9512fb16e7e",
            "a7dcc267b79748d987e395a3d5451fed",
            "86c7a25e84e34c9e9deb2c97e4d34a92",
            "6a6f22b902084075b508834678356ecf",
            "5fe2254de99146b6b339027d5abebf5a",
            "3147078108f94c908b78133eee855b04",
            "58ec1907537942cca022ef7dd2886f1d",
            "9cd4f72918564e9d9cb201383d63fb34",
            "2a2a78ae335143f79da5cd984ca2fe5a",
            "6b71ad1e7c534b3685a34ece4f8962d5",
            "b3d6c863b0184b188137ca2b342bf9c4",
            "7581c59b3aa9486d89796a6501b00daf",
            "76e6e386ad6844b8982842ffd3c74769",
            "9d103d54f0b6419a9fa2f332173e53d7",
            "352eb9ccd35540ba9291e61d7d0a76ad",
            "618573f7e3c344ec8480a155bba4d835",
            "104360c3dbf2483c9856ad3cd47d3d0c",
            "9c11c01992964a2db43138e000431757",
            "83de276b5a4a421cb1a8285268b0245e",
            "2b6199cb59754d7e99088ebcb2eb6f27",
            "49a34f9c96c94ce9805bbf3c78b3fcc1",
            "f1e237d680dc4a389d6f9d3ecf850eb6",
            "10e9fbd57470444c97b926cbdf747e9e",
            "759612a04011402abe4ee3f412e0d71d",
            "56e4cf559cd34bb8879101e4276930e5",
            "9231628d25c1483bbbcfde3e58978099",
            "08480f0c64b4402691810136b2ff8d5d",
            "6cd1673444ac461a8ddb000c9ab8c76c",
            "de332289c92949359ec5d60c24f106cf",
            "481c04111a344a989b57cf7dedb91c08",
            "dcad324581124cae9d59248aa73a96da",
            "9985bdecd58749119f427b172a8f3cb8",
            "4dbd728be9554b8a9b168ef63a406eec",
            "415086418ce147028b1dcb634478d207",
            "39d009e0e8a648e594e22bc5c330d9cf",
            "ff80197a7198450eb99eaafe0ca2d598"
          ]
        },
        "outputId": "1da5dcb4-7f77-42ee-ce8e-b4768b348801"
      },
      "outputs": [
        {
          "output_type": "stream",
          "name": "stderr",
          "text": [
            "/usr/local/lib/python3.11/dist-packages/huggingface_hub/utils/_auth.py:94: UserWarning: \n",
            "The secret `HF_TOKEN` does not exist in your Colab secrets.\n",
            "To authenticate with the Hugging Face Hub, create a token in your settings tab (https://huggingface.co/settings/tokens), set it as secret in your Google Colab and restart your session.\n",
            "You will be able to reuse this secret in all of your notebooks.\n",
            "Please note that authentication is recommended but still optional to access public models or datasets.\n",
            "  warnings.warn(\n"
          ]
        },
        {
          "output_type": "display_data",
          "data": {
            "text/plain": [
              "tokenizer_config.json:   0%|          | 0.00/25.0 [00:00<?, ?B/s]"
            ],
            "application/vnd.jupyter.widget-view+json": {
              "version_major": 2,
              "version_minor": 0,
              "model_id": "2e7963cd64e4454ab0f17bde66797d42"
            }
          },
          "metadata": {}
        },
        {
          "output_type": "display_data",
          "data": {
            "text/plain": [
              "spiece.model:   0%|          | 0.00/760k [00:00<?, ?B/s]"
            ],
            "application/vnd.jupyter.widget-view+json": {
              "version_major": 2,
              "version_minor": 0,
              "model_id": "6a6f22b902084075b508834678356ecf"
            }
          },
          "metadata": {}
        },
        {
          "output_type": "display_data",
          "data": {
            "text/plain": [
              "tokenizer.json:   0%|          | 0.00/1.31M [00:00<?, ?B/s]"
            ],
            "application/vnd.jupyter.widget-view+json": {
              "version_major": 2,
              "version_minor": 0,
              "model_id": "352eb9ccd35540ba9291e61d7d0a76ad"
            }
          },
          "metadata": {}
        },
        {
          "output_type": "display_data",
          "data": {
            "text/plain": [
              "config.json:   0%|          | 0.00/684 [00:00<?, ?B/s]"
            ],
            "application/vnd.jupyter.widget-view+json": {
              "version_major": 2,
              "version_minor": 0,
              "model_id": "9231628d25c1483bbbcfde3e58978099"
            }
          },
          "metadata": {}
        }
      ],
      "source": [
        "from transformers import AlbertTokenizer\n",
        "\n",
        "# Initialize the tokenizer for ALBERT\n",
        "tokenizer = AlbertTokenizer.from_pretrained(\"albert-base-v2\")\n",
        "\n",
        "# Tokenize the data\n",
        "for content_type in content_types:\n",
        "    train_encodings = tokenizer(\n",
        "        list(datasets[content_type][\"X_train\"]),\n",
        "        truncation=True,\n",
        "        padding=True,\n",
        "        max_length=512,\n",
        "    )\n",
        "    test_encodings = tokenizer(\n",
        "        list(datasets[content_type][\"X_test\"]),\n",
        "        truncation=True,\n",
        "        padding=True,\n",
        "        max_length=512,\n",
        "    )\n",
        "    datasets[content_type][\"train_encodings\"] = train_encodings\n",
        "    datasets[content_type][\"test_encodings\"] = test_encodings\n"
      ]
    },
    {
      "cell_type": "code",
      "source": [],
      "metadata": {
        "id": "KQ0Bpob2_JKY"
      },
      "execution_count": null,
      "outputs": []
    },
    {
      "cell_type": "code",
      "execution_count": null,
      "metadata": {
        "id": "SgZvQY3bVQDf",
        "colab": {
          "base_uri": "https://localhost:8080/",
          "height": 84,
          "referenced_widgets": [
            "ed7c7bb2b6054d238d015ebea8574ff2",
            "f5691b0f85694537b3bbb0a675ef1cca",
            "0ac010414cf44ebcaaab6589f02a8559",
            "7c179d4690904232ae42daf207ae8cd8",
            "0248f00acab649dba33bee7bbda4d336",
            "26a1bc325c544e8886687d057281567d",
            "2e8f92542afa41eab278845edd4d8f86",
            "9e6196f9a3974c3184148470c7084dca",
            "038930646edb4984bb6831841fc77981",
            "852b53369e414c0b88c7b01dca685366",
            "5c41d988ead14705a56d47655fabe2eb"
          ]
        },
        "outputId": "e8f477e0-0bc1-4cb2-dbbb-0d1067a94b58"
      },
      "outputs": [
        {
          "output_type": "display_data",
          "data": {
            "text/plain": [
              "model.safetensors:   0%|          | 0.00/47.4M [00:00<?, ?B/s]"
            ],
            "application/vnd.jupyter.widget-view+json": {
              "version_major": 2,
              "version_minor": 0,
              "model_id": "ed7c7bb2b6054d238d015ebea8574ff2"
            }
          },
          "metadata": {}
        },
        {
          "output_type": "stream",
          "name": "stderr",
          "text": [
            "Some weights of AlbertForSequenceClassification were not initialized from the model checkpoint at albert-base-v2 and are newly initialized: ['classifier.bias', 'classifier.weight']\n",
            "You should probably TRAIN this model on a down-stream task to be able to use it for predictions and inference.\n"
          ]
        }
      ],
      "source": [
        "from transformers import AlbertForSequenceClassification\n",
        "\n",
        "model = AlbertForSequenceClassification.from_pretrained(\n",
        "    \"albert-base-v2\", num_labels=3\n",
        ")\n"
      ]
    },
    {
      "cell_type": "code",
      "execution_count": null,
      "metadata": {
        "id": "kQk011ssUHTm"
      },
      "outputs": [],
      "source": [
        "import torch\n",
        "\n",
        "class TextDataset(torch.utils.data.Dataset):\n",
        "    def __init__(self, encodings, labels):\n",
        "        self.encodings = {key: torch.tensor(val) for key, val in encodings.items()}  # Convert to tensors\n",
        "        self.labels = torch.tensor(labels, dtype=torch.long)  # Convert labels to tensors\n",
        "\n",
        "    def __len__(self):\n",
        "        return len(self.labels)\n",
        "\n",
        "    def __getitem__(self, idx):\n",
        "        item = {key: val[idx] for key, val in self.encodings.items()}\n",
        "        item[\"labels\"] = self.labels[idx]\n",
        "        return item\n",
        "\n",
        "\n",
        "for content_type in content_types:\n",
        "    datasets[content_type][\"train_dataset\"] = TextDataset(\n",
        "        datasets[content_type][\"train_encodings\"], datasets[content_type][\"y_train_encoded\"]\n",
        "    )\n",
        "    datasets[content_type][\"test_dataset\"] = TextDataset(\n",
        "        datasets[content_type][\"test_encodings\"], datasets[content_type][\"y_test_encoded\"]\n",
        "    )\n"
      ]
    },
    {
      "cell_type": "code",
      "execution_count": null,
      "metadata": {
        "id": "WR3AfvzmVXkz",
        "colab": {
          "base_uri": "https://localhost:8080/"
        },
        "outputId": "3476f469-92ed-403e-ffe5-c7207418d856"
      },
      "outputs": [
        {
          "output_type": "stream",
          "name": "stdout",
          "text": [
            "{'input_ids': tensor([    2,  4483,  7807,    13,     1,  6826,  1829,   165,    14,    13,\n",
            "            1, 19032,   240,    15,    19,    48,    85,   557,   796,    13,\n",
            "            1,  4666,    18,  4048,    13,     1,  4666,    18,  3412, 21719,\n",
            "          140,    13,    38,  7673,   103,  4202,    15,    13,     1,  4666,\n",
            "           18,   165,    15,    13,     1,  4666,    18,   135,    15,    13,\n",
            "            1,  4666,    18,   240,    15,    29,    14,    13,     1,  4666,\n",
            "           18,  1036,     9,   753,    68,   140,    13,     1,  4666,    18,\n",
            "          300,    86,   976,    17,   366,    13,     1,  4666,    18,   264,\n",
            "           13,     1,  4666,    18,  3412,    13,     1,  4666,    18,  4048,\n",
            "          174,    57,    85,    20,   747,    17,  3408,    14,    13,   661,\n",
            "         6105,    18,    60,   148,    50,    90,  1045,    35, 17447,   854,\n",
            "          699,    35,    14,  3842,    13,     1,  4666,    18,   379,    19,\n",
            "           14,  1080,    54,    35,    13,     1,  6826,  1829,   135,    54,\n",
            "          791,    13,     1,  4666,    18,   465,    54,  1845,    15,    47,\n",
            "           19, 10859,  1805,    27,    21,  1404,    13,     1,  6826,  1829,\n",
            "          135,    21,   763,    27,    13,     1,  4666,    18,   457,    54,\n",
            "          791,   466,   101,    13,     1,  4666,    18,   518,    54,    13,\n",
            "            1,  4666,    18,  1036,    13,     1,  6826,  1829,   165,    13,\n",
            "            1,  4666,    18,  1306,    15,    19,    13,     1, 19032,   264,\n",
            "           24,   255,    96,  1716,    57,   533,    40, 16583,   187,   483,\n",
            "           60,   185,    13,     1,  4666,    18,   918,   119,  9227,    14,\n",
            "         3180,   282,    17,   368,  2861,    13,     1,  4666,    18,  1543,\n",
            "           63,    20,  1994,    13,     1,  4666,    18,  4048,    50,  9227,\n",
            "           13,     1,  4666,    18,  1419,    13,     1,  6336,   165,    54,\n",
            "          318,    13,     1,  6826,  1829,   300,    13,     1,  4666,    18,\n",
            "         1193,    13,     1,  4666,    18,  1091,   187,    28,    21,    13,\n",
            "            1,  4666,    18,  2602,    13,     1, 19032,   264,    13,     1,\n",
            "         4666,    18,  1941,    13,     1,  8209,   165,    63,  1042,    37,\n",
            "           13,     1,  6336,   135,    13,     1,  4666,    18,  1433,    13,\n",
            "            5,     1, 19032,   165,    15,    13,     1, 19032,   135,     6,\n",
            "           13,     1, 19032,   379,    15,    13,     1, 19032,   300,    15,\n",
            "           13,     1,  6826,  1829,   300,     8,     1,  4666,    18,  1053,\n",
            "           17,    13,     1,  4666,    18,  1087,     6,   452,    21,    13,\n",
            "            1,  1432,  5089,   135,    13,     1,  4666,    18,  2599,    26,\n",
            "        26785,    20,    13,     1,  4666,    18,  2738,    13,     1,  6336,\n",
            "          240,    13,     1,  4666,    18,  1433,    29,    21,    13,     1,\n",
            "         1432,  5089,   165,    13,     1,  4666,    18,  2599,   187,    30,\n",
            "           18,    91,    13,     1,  1432,  5089,   240,    13,     1,  6826,\n",
            "         1829,   165,    13,     1, 19032,   264,   187,    98,    89,  1684,\n",
            "           25,   228,    13,     1,  4666,    18,  1323,    19,  6037,    18,\n",
            "           68,   102,    13,     1,  4666,    18,  1941,    59,    13,     1,\n",
            "         8209,   165,    22,    18,    60,    14,   234,    13,     1,  6826,\n",
            "         1829,   165,  4437,    30,   258,  7774,    17,    59,    13,     1,\n",
            "         4666,    18,  2599,  1684,   206,   213,   258,    18,   187,   744,\n",
            "            9,    13,     1,  3807,   165,    13,     1,  4666,    18,  2287,\n",
            "           13,     1,  4666,    18,  2001,    21,    13,     1,  4666,    18,\n",
            "         1996,    19,    59,    13,     1,  6826,  1829,   300,   154,    13,\n",
            "            1,  4666,    18,  1811,    13,     1,  4666,    18,  2409,    15,\n",
            "           24,   216,    30,    19,    59,   236,    13,     1,  6336,   300,\n",
            "           13,     1,  4666,    18,  2567,    59,   234,    13,     1,  6826,\n",
            "         1829,   165,  1001,    13,     1,  6336,   264,  6842,   863, 11677,\n",
            "           63,     3]), 'token_type_ids': tensor([0, 0, 0, 0, 0, 0, 0, 0, 0, 0, 0, 0, 0, 0, 0, 0, 0, 0, 0, 0, 0, 0, 0, 0,\n",
            "        0, 0, 0, 0, 0, 0, 0, 0, 0, 0, 0, 0, 0, 0, 0, 0, 0, 0, 0, 0, 0, 0, 0, 0,\n",
            "        0, 0, 0, 0, 0, 0, 0, 0, 0, 0, 0, 0, 0, 0, 0, 0, 0, 0, 0, 0, 0, 0, 0, 0,\n",
            "        0, 0, 0, 0, 0, 0, 0, 0, 0, 0, 0, 0, 0, 0, 0, 0, 0, 0, 0, 0, 0, 0, 0, 0,\n",
            "        0, 0, 0, 0, 0, 0, 0, 0, 0, 0, 0, 0, 0, 0, 0, 0, 0, 0, 0, 0, 0, 0, 0, 0,\n",
            "        0, 0, 0, 0, 0, 0, 0, 0, 0, 0, 0, 0, 0, 0, 0, 0, 0, 0, 0, 0, 0, 0, 0, 0,\n",
            "        0, 0, 0, 0, 0, 0, 0, 0, 0, 0, 0, 0, 0, 0, 0, 0, 0, 0, 0, 0, 0, 0, 0, 0,\n",
            "        0, 0, 0, 0, 0, 0, 0, 0, 0, 0, 0, 0, 0, 0, 0, 0, 0, 0, 0, 0, 0, 0, 0, 0,\n",
            "        0, 0, 0, 0, 0, 0, 0, 0, 0, 0, 0, 0, 0, 0, 0, 0, 0, 0, 0, 0, 0, 0, 0, 0,\n",
            "        0, 0, 0, 0, 0, 0, 0, 0, 0, 0, 0, 0, 0, 0, 0, 0, 0, 0, 0, 0, 0, 0, 0, 0,\n",
            "        0, 0, 0, 0, 0, 0, 0, 0, 0, 0, 0, 0, 0, 0, 0, 0, 0, 0, 0, 0, 0, 0, 0, 0,\n",
            "        0, 0, 0, 0, 0, 0, 0, 0, 0, 0, 0, 0, 0, 0, 0, 0, 0, 0, 0, 0, 0, 0, 0, 0,\n",
            "        0, 0, 0, 0, 0, 0, 0, 0, 0, 0, 0, 0, 0, 0, 0, 0, 0, 0, 0, 0, 0, 0, 0, 0,\n",
            "        0, 0, 0, 0, 0, 0, 0, 0, 0, 0, 0, 0, 0, 0, 0, 0, 0, 0, 0, 0, 0, 0, 0, 0,\n",
            "        0, 0, 0, 0, 0, 0, 0, 0, 0, 0, 0, 0, 0, 0, 0, 0, 0, 0, 0, 0, 0, 0, 0, 0,\n",
            "        0, 0, 0, 0, 0, 0, 0, 0, 0, 0, 0, 0, 0, 0, 0, 0, 0, 0, 0, 0, 0, 0, 0, 0,\n",
            "        0, 0, 0, 0, 0, 0, 0, 0, 0, 0, 0, 0, 0, 0, 0, 0, 0, 0, 0, 0, 0, 0, 0, 0,\n",
            "        0, 0, 0, 0, 0, 0, 0, 0, 0, 0, 0, 0, 0, 0, 0, 0, 0, 0, 0, 0, 0, 0, 0, 0,\n",
            "        0, 0, 0, 0, 0, 0, 0, 0, 0, 0, 0, 0, 0, 0, 0, 0, 0, 0, 0, 0, 0, 0, 0, 0,\n",
            "        0, 0, 0, 0, 0, 0, 0, 0, 0, 0, 0, 0, 0, 0, 0, 0, 0, 0, 0, 0, 0, 0, 0, 0,\n",
            "        0, 0, 0, 0, 0, 0, 0, 0, 0, 0, 0, 0, 0, 0, 0, 0, 0, 0, 0, 0, 0, 0, 0, 0,\n",
            "        0, 0, 0, 0, 0, 0, 0, 0]), 'attention_mask': tensor([1, 1, 1, 1, 1, 1, 1, 1, 1, 1, 1, 1, 1, 1, 1, 1, 1, 1, 1, 1, 1, 1, 1, 1,\n",
            "        1, 1, 1, 1, 1, 1, 1, 1, 1, 1, 1, 1, 1, 1, 1, 1, 1, 1, 1, 1, 1, 1, 1, 1,\n",
            "        1, 1, 1, 1, 1, 1, 1, 1, 1, 1, 1, 1, 1, 1, 1, 1, 1, 1, 1, 1, 1, 1, 1, 1,\n",
            "        1, 1, 1, 1, 1, 1, 1, 1, 1, 1, 1, 1, 1, 1, 1, 1, 1, 1, 1, 1, 1, 1, 1, 1,\n",
            "        1, 1, 1, 1, 1, 1, 1, 1, 1, 1, 1, 1, 1, 1, 1, 1, 1, 1, 1, 1, 1, 1, 1, 1,\n",
            "        1, 1, 1, 1, 1, 1, 1, 1, 1, 1, 1, 1, 1, 1, 1, 1, 1, 1, 1, 1, 1, 1, 1, 1,\n",
            "        1, 1, 1, 1, 1, 1, 1, 1, 1, 1, 1, 1, 1, 1, 1, 1, 1, 1, 1, 1, 1, 1, 1, 1,\n",
            "        1, 1, 1, 1, 1, 1, 1, 1, 1, 1, 1, 1, 1, 1, 1, 1, 1, 1, 1, 1, 1, 1, 1, 1,\n",
            "        1, 1, 1, 1, 1, 1, 1, 1, 1, 1, 1, 1, 1, 1, 1, 1, 1, 1, 1, 1, 1, 1, 1, 1,\n",
            "        1, 1, 1, 1, 1, 1, 1, 1, 1, 1, 1, 1, 1, 1, 1, 1, 1, 1, 1, 1, 1, 1, 1, 1,\n",
            "        1, 1, 1, 1, 1, 1, 1, 1, 1, 1, 1, 1, 1, 1, 1, 1, 1, 1, 1, 1, 1, 1, 1, 1,\n",
            "        1, 1, 1, 1, 1, 1, 1, 1, 1, 1, 1, 1, 1, 1, 1, 1, 1, 1, 1, 1, 1, 1, 1, 1,\n",
            "        1, 1, 1, 1, 1, 1, 1, 1, 1, 1, 1, 1, 1, 1, 1, 1, 1, 1, 1, 1, 1, 1, 1, 1,\n",
            "        1, 1, 1, 1, 1, 1, 1, 1, 1, 1, 1, 1, 1, 1, 1, 1, 1, 1, 1, 1, 1, 1, 1, 1,\n",
            "        1, 1, 1, 1, 1, 1, 1, 1, 1, 1, 1, 1, 1, 1, 1, 1, 1, 1, 1, 1, 1, 1, 1, 1,\n",
            "        1, 1, 1, 1, 1, 1, 1, 1, 1, 1, 1, 1, 1, 1, 1, 1, 1, 1, 1, 1, 1, 1, 1, 1,\n",
            "        1, 1, 1, 1, 1, 1, 1, 1, 1, 1, 1, 1, 1, 1, 1, 1, 1, 1, 1, 1, 1, 1, 1, 1,\n",
            "        1, 1, 1, 1, 1, 1, 1, 1, 1, 1, 1, 1, 1, 1, 1, 1, 1, 1, 1, 1, 1, 1, 1, 1,\n",
            "        1, 1, 1, 1, 1, 1, 1, 1, 1, 1, 1, 1, 1, 1, 1, 1, 1, 1, 1, 1, 1, 1, 1, 1,\n",
            "        1, 1, 1, 1, 1, 1, 1, 1, 1, 1, 1, 1, 1, 1, 1, 1, 1, 1, 1, 1, 1, 1, 1, 1,\n",
            "        1, 1, 1, 1, 1, 1, 1, 1, 1, 1, 1, 1, 1, 1, 1, 1, 1, 1, 1, 1, 1, 1, 1, 1,\n",
            "        1, 1, 1, 1, 1, 1, 1, 1]), 'labels': tensor(2)}\n"
          ]
        }
      ],
      "source": [
        "# Check a single dataset item\n",
        "sample_item = datasets[\"essay\"][\"train_dataset\"][0]\n",
        "print(sample_item)  # Should contain tensors for input_ids, attention_mask, and labels\n"
      ]
    },
    {
      "cell_type": "code",
      "source": [
        "print(content_types)"
      ],
      "metadata": {
        "id": "BsDFrW2PiuNM",
        "colab": {
          "base_uri": "https://localhost:8080/"
        },
        "outputId": "ebc2355c-26db-4d4a-d5dc-92d2f481db53"
      },
      "execution_count": null,
      "outputs": [
        {
          "output_type": "stream",
          "name": "stdout",
          "text": [
            "['code', 'essay', 'poetry', 'story']\n"
          ]
        }
      ]
    },
    {
      "cell_type": "code",
      "source": [
        "models = {}\n",
        "for content_type in content_types:\n",
        "    models[content_type] = AlbertForSequenceClassification.from_pretrained(\n",
        "        \"albert-base-v2\", num_labels=3\n",
        "    )\n"
      ],
      "metadata": {
        "id": "-UUUWXTwj3lX",
        "colab": {
          "base_uri": "https://localhost:8080/"
        },
        "outputId": "0790d218-570a-4076-f2e3-afb0809c4eaa"
      },
      "execution_count": null,
      "outputs": [
        {
          "output_type": "stream",
          "name": "stderr",
          "text": [
            "Some weights of AlbertForSequenceClassification were not initialized from the model checkpoint at albert-base-v2 and are newly initialized: ['classifier.bias', 'classifier.weight']\n",
            "You should probably TRAIN this model on a down-stream task to be able to use it for predictions and inference.\n",
            "Some weights of AlbertForSequenceClassification were not initialized from the model checkpoint at albert-base-v2 and are newly initialized: ['classifier.bias', 'classifier.weight']\n",
            "You should probably TRAIN this model on a down-stream task to be able to use it for predictions and inference.\n",
            "Some weights of AlbertForSequenceClassification were not initialized from the model checkpoint at albert-base-v2 and are newly initialized: ['classifier.bias', 'classifier.weight']\n",
            "You should probably TRAIN this model on a down-stream task to be able to use it for predictions and inference.\n",
            "Some weights of AlbertForSequenceClassification were not initialized from the model checkpoint at albert-base-v2 and are newly initialized: ['classifier.bias', 'classifier.weight']\n",
            "You should probably TRAIN this model on a down-stream task to be able to use it for predictions and inference.\n"
          ]
        }
      ]
    },
    {
      "cell_type": "code",
      "execution_count": null,
      "metadata": {
        "id": "evV7RRbeVWJu",
        "colab": {
          "base_uri": "https://localhost:8080/"
        },
        "outputId": "13216f42-66b1-45f0-f747-e4d329838032"
      },
      "outputs": [
        {
          "output_type": "stream",
          "name": "stderr",
          "text": [
            "/usr/local/lib/python3.11/dist-packages/transformers/optimization.py:591: FutureWarning: This implementation of AdamW is deprecated and will be removed in a future version. Use the PyTorch implementation torch.optim.AdamW instead, or set `no_deprecation_warning=True` to disable this warning\n",
            "  warnings.warn(\n"
          ]
        }
      ],
      "source": [
        "from transformers import AdamW\n",
        "\n",
        "optimizers = {}\n",
        "for content_type in content_types:\n",
        "    optimizers[content_type] = AdamW(models[content_type].parameters(), lr=5e-5)\n"
      ]
    },
    {
      "cell_type": "code",
      "execution_count": null,
      "metadata": {
        "id": "nxMZZF4wVZd3"
      },
      "outputs": [],
      "source": [
        "def custom_collate_fn(batch):\n",
        "    input_ids = torch.stack([item['input_ids'] for item in batch])\n",
        "    attention_mask = torch.stack([item['attention_mask'] for item in batch])\n",
        "    labels = torch.tensor([item['labels'] for item in batch], dtype=torch.long)\n",
        "    return {\"input_ids\": input_ids, \"attention_mask\": attention_mask, \"labels\": labels}\n"
      ]
    },
    {
      "cell_type": "code",
      "execution_count": null,
      "metadata": {
        "id": "QBum-SDwVax4"
      },
      "outputs": [],
      "source": [
        "from torch.utils.data import DataLoader\n",
        "\n",
        "train_loaders = {}\n",
        "test_loaders = {}\n",
        "\n",
        "for content_type in content_types:\n",
        "    train_loaders[content_type] = DataLoader(\n",
        "        datasets[content_type][\"train_dataset\"], batch_size=16, shuffle=True\n",
        "    )\n",
        "    test_loaders[content_type] = DataLoader(\n",
        "        datasets[content_type][\"test_dataset\"], batch_size=16\n",
        "    )\n"
      ]
    },
    {
      "cell_type": "code",
      "source": [
        "import numpy as np\n",
        "\n",
        "\n",
        "device = torch.device(\"cuda\" if torch.cuda.is_available() else \"cpu\")\n",
        "\n",
        "class_weights = {}\n",
        "for content_type in content_types:\n",
        "    y_train = datasets[content_type][\"y_train_encoded\"]\n",
        "    class_counts = np.bincount(y_train)\n",
        "    total_samples = len(y_train)\n",
        "    weights = [total_samples / (len(class_counts) * count) for count in class_counts]\n",
        "    class_weights[content_type] = torch.tensor(weights, dtype=torch.float).to(device)\n",
        "\n",
        "    print(f\"Class weights for {content_type}: {weights}\")\n"
      ],
      "metadata": {
        "colab": {
          "base_uri": "https://localhost:8080/"
        },
        "id": "WsT2u99RfTLE",
        "outputId": "51971a52-e596-4426-dd23-c686eaa9393f"
      },
      "execution_count": null,
      "outputs": [
        {
          "output_type": "stream",
          "name": "stdout",
          "text": [
            "Class weights for code: [1.9259259259259258, 1.916247906197655, 0.5104863900044623]\n",
            "Class weights for essay: [2.3586497890295357, 2.3291666666666666, 0.4658333333333333]\n",
            "Class weights for poetry: [2.0, 2.0, 0.5]\n",
            "Class weights for story: [0.6319444444444444, 2.077625570776256, 1.068075117370892]\n"
          ]
        }
      ]
    },
    {
      "cell_type": "code",
      "source": [
        "import torch.nn as nn\n",
        "\n",
        "loss_functions = {}\n",
        "for content_type in content_types:\n",
        "    loss_functions[content_type] = nn.CrossEntropyLoss(weight=class_weights[content_type])\n"
      ],
      "metadata": {
        "id": "1xV2DfLrfUFV"
      },
      "execution_count": null,
      "outputs": []
    },
    {
      "cell_type": "code",
      "execution_count": null,
      "metadata": {
        "colab": {
          "base_uri": "https://localhost:8080/"
        },
        "id": "aLCNyxoYVcIN",
        "outputId": "a2a1b5c0-e07d-4cc0-bb10-56a7c2a62750"
      },
      "outputs": [
        {
          "output_type": "stream",
          "name": "stdout",
          "text": [
            "Training model for code...\n",
            "Epoch 1/3\n"
          ]
        },
        {
          "output_type": "stream",
          "name": "stderr",
          "text": [
            "Epoch 1: 100%|██████████| 72/72 [01:44<00:00,  1.45s/it, loss=0.0411]\n"
          ]
        },
        {
          "output_type": "stream",
          "name": "stdout",
          "text": [
            "Epoch 2/3\n"
          ]
        },
        {
          "output_type": "stream",
          "name": "stderr",
          "text": [
            "Epoch 2: 100%|██████████| 72/72 [01:45<00:00,  1.47s/it, loss=0.013]\n"
          ]
        },
        {
          "output_type": "stream",
          "name": "stdout",
          "text": [
            "Epoch 3/3\n"
          ]
        },
        {
          "output_type": "stream",
          "name": "stderr",
          "text": [
            "Epoch 3: 100%|██████████| 72/72 [01:45<00:00,  1.47s/it, loss=0.277]\n"
          ]
        },
        {
          "output_type": "stream",
          "name": "stdout",
          "text": [
            "Training model for essay...\n",
            "Epoch 1/3\n"
          ]
        },
        {
          "output_type": "stream",
          "name": "stderr",
          "text": [
            "Epoch 1: 100%|██████████| 70/70 [01:46<00:00,  1.53s/it, loss=0.0578]\n"
          ]
        },
        {
          "output_type": "stream",
          "name": "stdout",
          "text": [
            "Epoch 2/3\n"
          ]
        },
        {
          "output_type": "stream",
          "name": "stderr",
          "text": [
            "Epoch 2: 100%|██████████| 70/70 [01:46<00:00,  1.53s/it, loss=0.129]\n"
          ]
        },
        {
          "output_type": "stream",
          "name": "stdout",
          "text": [
            "Epoch 3/3\n"
          ]
        },
        {
          "output_type": "stream",
          "name": "stderr",
          "text": [
            "Epoch 3: 100%|██████████| 70/70 [01:46<00:00,  1.53s/it, loss=0.111]\n"
          ]
        },
        {
          "output_type": "stream",
          "name": "stdout",
          "text": [
            "Training model for poetry...\n",
            "Epoch 1/3\n"
          ]
        },
        {
          "output_type": "stream",
          "name": "stderr",
          "text": [
            "Epoch 1: 100%|██████████| 75/75 [01:52<00:00,  1.51s/it, loss=1.04]\n"
          ]
        },
        {
          "output_type": "stream",
          "name": "stdout",
          "text": [
            "Epoch 2/3\n"
          ]
        },
        {
          "output_type": "stream",
          "name": "stderr",
          "text": [
            "Epoch 2: 100%|██████████| 75/75 [01:52<00:00,  1.50s/it, loss=0.141]\n"
          ]
        },
        {
          "output_type": "stream",
          "name": "stdout",
          "text": [
            "Epoch 3/3\n"
          ]
        },
        {
          "output_type": "stream",
          "name": "stderr",
          "text": [
            "Epoch 3: 100%|██████████| 75/75 [01:52<00:00,  1.50s/it, loss=0.523]\n"
          ]
        },
        {
          "output_type": "stream",
          "name": "stdout",
          "text": [
            "Training model for story...\n",
            "Epoch 1/3\n"
          ]
        },
        {
          "output_type": "stream",
          "name": "stderr",
          "text": [
            "Epoch 1: 100%|██████████| 29/29 [00:44<00:00,  1.53s/it, loss=0.159]\n"
          ]
        },
        {
          "output_type": "stream",
          "name": "stdout",
          "text": [
            "Epoch 2/3\n"
          ]
        },
        {
          "output_type": "stream",
          "name": "stderr",
          "text": [
            "Epoch 2: 100%|██████████| 29/29 [00:44<00:00,  1.53s/it, loss=0.411]\n"
          ]
        },
        {
          "output_type": "stream",
          "name": "stdout",
          "text": [
            "Epoch 3/3\n"
          ]
        },
        {
          "output_type": "stream",
          "name": "stderr",
          "text": [
            "Epoch 3: 100%|██████████| 29/29 [00:44<00:00,  1.53s/it, loss=0.0959]\n"
          ]
        }
      ],
      "source": [
        "from tqdm import tqdm  # Import tqdm for progress bars\n",
        "import torch\n",
        "\n",
        "for content_type in content_types:\n",
        "    print(f\"Training model for {content_type}...\")\n",
        "    model = models[content_type].to(device)  # Send model to device\n",
        "    optimizer = optimizers[content_type]\n",
        "    train_loader = train_loaders[content_type]\n",
        "    loss_function = loss_functions[content_type]\n",
        "\n",
        "    model.train()\n",
        "    for epoch in range(3):  # Number of epochs\n",
        "        print(f\"Epoch {epoch+1}/3\")\n",
        "\n",
        "        # Wrap the train_loader with tqdm\n",
        "        loop = tqdm(train_loader, leave=True)\n",
        "        for batch in loop:\n",
        "            input_ids = batch[\"input_ids\"].to(device)  # Send input_ids to device\n",
        "            attention_mask = batch[\"attention_mask\"].to(device)  # Send attention_mask to device\n",
        "            labels = batch[\"labels\"].to(device)  # Send labels to device\n",
        "\n",
        "            optimizer.zero_grad()\n",
        "            outputs = model(input_ids, attention_mask=attention_mask, labels=labels)\n",
        "            loss = loss_function(outputs.logits, labels)  # Use custom loss function\n",
        "            loss.backward()\n",
        "            optimizer.step()\n",
        "\n",
        "            # Update the progress bar with loss value\n",
        "            loop.set_description(f\"Epoch {epoch+1}\")\n",
        "            loop.set_postfix(loss=loss.item())\n"
      ]
    },
    {
      "cell_type": "code",
      "source": [],
      "metadata": {
        "id": "0SZ86PYbdHD5"
      },
      "execution_count": null,
      "outputs": []
    },
    {
      "cell_type": "code",
      "source": [
        "from sklearn.metrics import classification_report, confusion_matrix\n",
        "\n",
        "# Evaluate each model\n",
        "for content_type in content_types:\n",
        "    print(f\"Evaluating model for {content_type}...\")\n",
        "    model = models[content_type].to(device)\n",
        "    model.eval()  # Set model to evaluation mode\n",
        "\n",
        "    all_preds = []\n",
        "    all_labels = []\n",
        "\n",
        "    # Loop through the test DataLoader\n",
        "    for batch in test_loaders[content_type]:\n",
        "        input_ids = batch[\"input_ids\"].to(device)\n",
        "        attention_mask = batch[\"attention_mask\"].to(device)\n",
        "        labels = batch[\"labels\"].to(device)\n",
        "\n",
        "        with torch.no_grad():\n",
        "            outputs = model(input_ids, attention_mask=attention_mask)\n",
        "            preds = torch.argmax(outputs.logits, dim=1)\n",
        "\n",
        "        all_preds.extend(preds.cpu().numpy())\n",
        "        all_labels.extend(labels.cpu().numpy())\n",
        "\n",
        "    # Compute metrics\n",
        "    print(f\"Classification Report for {content_type}:\")\n",
        "    print(classification_report(all_labels, all_preds, target_names=[\"Human\", \"BARD\", \"GPT\"]))\n",
        "\n",
        "    print(f\"Confusion Matrix for {content_type}:\")\n",
        "    print(confusion_matrix(all_labels, all_preds))\n"
      ],
      "metadata": {
        "id": "sHVm60R6NsCf",
        "colab": {
          "base_uri": "https://localhost:8080/"
        },
        "outputId": "b2ea78c9-e86e-4b34-a88e-758e4db4bdcf"
      },
      "execution_count": null,
      "outputs": [
        {
          "output_type": "stream",
          "name": "stdout",
          "text": [
            "Evaluating model for code...\n",
            "Classification Report for code:\n",
            "              precision    recall  f1-score   support\n",
            "\n",
            "       Human       0.98      0.96      0.97        49\n",
            "        BARD       0.84      0.98      0.91        50\n",
            "         GPT       0.98      0.95      0.96       187\n",
            "\n",
            "    accuracy                           0.95       286\n",
            "   macro avg       0.94      0.96      0.95       286\n",
            "weighted avg       0.96      0.95      0.96       286\n",
            "\n",
            "Confusion Matrix for code:\n",
            "[[ 47   0   2]\n",
            " [  0  49   1]\n",
            " [  1   9 177]]\n",
            "Evaluating model for essay...\n",
            "Classification Report for essay:\n",
            "              precision    recall  f1-score   support\n",
            "\n",
            "       Human       0.93      0.95      0.94        40\n",
            "        BARD       0.90      0.95      0.93        40\n",
            "         GPT       0.99      0.98      0.99       200\n",
            "\n",
            "    accuracy                           0.97       280\n",
            "   macro avg       0.94      0.96      0.95       280\n",
            "weighted avg       0.97      0.97      0.97       280\n",
            "\n",
            "Confusion Matrix for essay:\n",
            "[[ 38   2   0]\n",
            " [  1  38   1]\n",
            " [  2   2 196]]\n",
            "Evaluating model for poetry...\n",
            "Classification Report for poetry:\n",
            "              precision    recall  f1-score   support\n",
            "\n",
            "       Human       0.97      0.62      0.76        50\n",
            "        BARD       0.51      0.92      0.65        50\n",
            "         GPT       0.97      0.86      0.91       200\n",
            "\n",
            "    accuracy                           0.83       300\n",
            "   macro avg       0.82      0.80      0.77       300\n",
            "weighted avg       0.89      0.83      0.84       300\n",
            "\n",
            "Confusion Matrix for poetry:\n",
            "[[ 31  17   2]\n",
            " [  1  46   3]\n",
            " [  0  28 172]]\n",
            "Evaluating model for story...\n",
            "Classification Report for story:\n",
            "              precision    recall  f1-score   support\n",
            "\n",
            "       Human       0.98      0.98      0.98        60\n",
            "        BARD       0.70      0.78      0.74        18\n",
            "         GPT       0.88      0.83      0.86        36\n",
            "\n",
            "    accuracy                           0.90       114\n",
            "   macro avg       0.86      0.86      0.86       114\n",
            "weighted avg       0.91      0.90      0.90       114\n",
            "\n",
            "Confusion Matrix for story:\n",
            "[[59  1  0]\n",
            " [ 0 14  4]\n",
            " [ 1  5 30]]\n"
          ]
        }
      ]
    },
    {
      "cell_type": "code",
      "source": [
        "import os\n",
        "\n",
        "# Directory to save models\n",
        "model_dir = \"trained_models\"\n",
        "os.makedirs(model_dir, exist_ok=True)\n",
        "\n",
        "# Save each model\n",
        "for content_type in content_types:\n",
        "    model_path = os.path.join(model_dir, f\"{content_type}_model.pth\")\n",
        "    torch.save(models[content_type].state_dict(), model_path)\n",
        "    print(f\"Saved {content_type} model to {model_path}\")\n"
      ],
      "metadata": {
        "id": "rSBHQs1TQ95s",
        "colab": {
          "base_uri": "https://localhost:8080/"
        },
        "outputId": "586dee19-ff7e-4643-befc-1f6e7aa21cf7"
      },
      "execution_count": null,
      "outputs": [
        {
          "output_type": "stream",
          "name": "stdout",
          "text": [
            "Saved code model to trained_models/code_model.pth\n",
            "Saved essay model to trained_models/essay_model.pth\n",
            "Saved poetry model to trained_models/poetry_model.pth\n",
            "Saved story model to trained_models/story_model.pth\n"
          ]
        }
      ]
    },
    {
      "cell_type": "code",
      "source": [
        "from google.colab import drive\n",
        "import torch\n",
        "import os\n",
        "\n",
        "# Mount Google Drive\n",
        "drive.mount('/content/drive')\n",
        "\n",
        "# Ensure the directory exists before saving\n",
        "save_path = '/content/drive/MyDrive/trained_models'\n",
        "os.makedirs(save_path, exist_ok=True)\n",
        "\n",
        "# Save all models\n",
        "models = {\n",
        "    'essay': models['essay'],\n",
        "    'code': models['code'],\n",
        "    'poetry': models['poetry'],\n",
        "    'story': models['story']\n",
        "}\n",
        "\n",
        "# Save each model to the specified path\n",
        "for model_name, model in models.items():\n",
        "    model_path = os.path.join(save_path, f\"{model_name}_model.pth\")\n",
        "    torch.save(model.state_dict(), model_path)\n",
        "    print(f\"{model_name.capitalize()} model saved successfully at: {model_path}\")\n"
      ],
      "metadata": {
        "id": "9JGb9l0UNbRz",
        "colab": {
          "base_uri": "https://localhost:8080/"
        },
        "outputId": "f39a70c9-aca3-45da-8f61-48ebd2b8022e"
      },
      "execution_count": null,
      "outputs": [
        {
          "output_type": "stream",
          "name": "stdout",
          "text": [
            "Mounted at /content/drive\n",
            "Essay model saved successfully at: /content/drive/MyDrive/trained_models/essay_model.pth\n",
            "Code model saved successfully at: /content/drive/MyDrive/trained_models/code_model.pth\n",
            "Poetry model saved successfully at: /content/drive/MyDrive/trained_models/poetry_model.pth\n",
            "Story model saved successfully at: /content/drive/MyDrive/trained_models/story_model.pth\n"
          ]
        }
      ]
    },
    {
      "cell_type": "code",
      "source": [
        "tokenizer.save_pretrained(save_path)\n",
        "print(f\"Tokenizer saved successfully at: {save_path}\")"
      ],
      "metadata": {
        "id": "ReFoy-bOZSTb",
        "colab": {
          "base_uri": "https://localhost:8080/"
        },
        "outputId": "d02bf4ba-43d7-4efb-8eb4-316d80ff294b"
      },
      "execution_count": null,
      "outputs": [
        {
          "output_type": "stream",
          "name": "stdout",
          "text": [
            "Tokenizer saved successfully at: /content/drive/MyDrive/trained_models\n"
          ]
        }
      ]
    }
  ],
  "metadata": {
    "colab": {
      "machine_shape": "hm",
      "provenance": [],
      "gpuType": "T4",
      "toc_visible": true
    },
    "kernelspec": {
      "display_name": "Python 3",
      "name": "python3"
    },
    "language_info": {
      "name": "python"
    },
    "accelerator": "GPU",
    "widgets": {
      "application/vnd.jupyter.widget-state+json": {
        "2e7963cd64e4454ab0f17bde66797d42": {
          "model_module": "@jupyter-widgets/controls",
          "model_name": "HBoxModel",
          "model_module_version": "1.5.0",
          "state": {
            "_dom_classes": [],
            "_model_module": "@jupyter-widgets/controls",
            "_model_module_version": "1.5.0",
            "_model_name": "HBoxModel",
            "_view_count": null,
            "_view_module": "@jupyter-widgets/controls",
            "_view_module_version": "1.5.0",
            "_view_name": "HBoxView",
            "box_style": "",
            "children": [
              "IPY_MODEL_9c1ca813d92949f9b5d8c38d0a4b94e5",
              "IPY_MODEL_68fa095f800b497f86b99dc5254d30b2",
              "IPY_MODEL_2ba3a76c6209486399f8d8e577ab763c"
            ],
            "layout": "IPY_MODEL_accf5ddcbcb64e9a983aec6f4172c6bd"
          }
        },
        "9c1ca813d92949f9b5d8c38d0a4b94e5": {
          "model_module": "@jupyter-widgets/controls",
          "model_name": "HTMLModel",
          "model_module_version": "1.5.0",
          "state": {
            "_dom_classes": [],
            "_model_module": "@jupyter-widgets/controls",
            "_model_module_version": "1.5.0",
            "_model_name": "HTMLModel",
            "_view_count": null,
            "_view_module": "@jupyter-widgets/controls",
            "_view_module_version": "1.5.0",
            "_view_name": "HTMLView",
            "description": "",
            "description_tooltip": null,
            "layout": "IPY_MODEL_7c79409623c64ae985303c67b3496eaf",
            "placeholder": "​",
            "style": "IPY_MODEL_634b603a96d24210a015115eeeb438ba",
            "value": "tokenizer_config.json: 100%"
          }
        },
        "68fa095f800b497f86b99dc5254d30b2": {
          "model_module": "@jupyter-widgets/controls",
          "model_name": "FloatProgressModel",
          "model_module_version": "1.5.0",
          "state": {
            "_dom_classes": [],
            "_model_module": "@jupyter-widgets/controls",
            "_model_module_version": "1.5.0",
            "_model_name": "FloatProgressModel",
            "_view_count": null,
            "_view_module": "@jupyter-widgets/controls",
            "_view_module_version": "1.5.0",
            "_view_name": "ProgressView",
            "bar_style": "success",
            "description": "",
            "description_tooltip": null,
            "layout": "IPY_MODEL_0cdb77c154074059b66e81b7a5616f2a",
            "max": 25,
            "min": 0,
            "orientation": "horizontal",
            "style": "IPY_MODEL_6fe25d76a83d4bffb4e4d9512fb16e7e",
            "value": 25
          }
        },
        "2ba3a76c6209486399f8d8e577ab763c": {
          "model_module": "@jupyter-widgets/controls",
          "model_name": "HTMLModel",
          "model_module_version": "1.5.0",
          "state": {
            "_dom_classes": [],
            "_model_module": "@jupyter-widgets/controls",
            "_model_module_version": "1.5.0",
            "_model_name": "HTMLModel",
            "_view_count": null,
            "_view_module": "@jupyter-widgets/controls",
            "_view_module_version": "1.5.0",
            "_view_name": "HTMLView",
            "description": "",
            "description_tooltip": null,
            "layout": "IPY_MODEL_a7dcc267b79748d987e395a3d5451fed",
            "placeholder": "​",
            "style": "IPY_MODEL_86c7a25e84e34c9e9deb2c97e4d34a92",
            "value": " 25.0/25.0 [00:00&lt;00:00, 2.32kB/s]"
          }
        },
        "accf5ddcbcb64e9a983aec6f4172c6bd": {
          "model_module": "@jupyter-widgets/base",
          "model_name": "LayoutModel",
          "model_module_version": "1.2.0",
          "state": {
            "_model_module": "@jupyter-widgets/base",
            "_model_module_version": "1.2.0",
            "_model_name": "LayoutModel",
            "_view_count": null,
            "_view_module": "@jupyter-widgets/base",
            "_view_module_version": "1.2.0",
            "_view_name": "LayoutView",
            "align_content": null,
            "align_items": null,
            "align_self": null,
            "border": null,
            "bottom": null,
            "display": null,
            "flex": null,
            "flex_flow": null,
            "grid_area": null,
            "grid_auto_columns": null,
            "grid_auto_flow": null,
            "grid_auto_rows": null,
            "grid_column": null,
            "grid_gap": null,
            "grid_row": null,
            "grid_template_areas": null,
            "grid_template_columns": null,
            "grid_template_rows": null,
            "height": null,
            "justify_content": null,
            "justify_items": null,
            "left": null,
            "margin": null,
            "max_height": null,
            "max_width": null,
            "min_height": null,
            "min_width": null,
            "object_fit": null,
            "object_position": null,
            "order": null,
            "overflow": null,
            "overflow_x": null,
            "overflow_y": null,
            "padding": null,
            "right": null,
            "top": null,
            "visibility": null,
            "width": null
          }
        },
        "7c79409623c64ae985303c67b3496eaf": {
          "model_module": "@jupyter-widgets/base",
          "model_name": "LayoutModel",
          "model_module_version": "1.2.0",
          "state": {
            "_model_module": "@jupyter-widgets/base",
            "_model_module_version": "1.2.0",
            "_model_name": "LayoutModel",
            "_view_count": null,
            "_view_module": "@jupyter-widgets/base",
            "_view_module_version": "1.2.0",
            "_view_name": "LayoutView",
            "align_content": null,
            "align_items": null,
            "align_self": null,
            "border": null,
            "bottom": null,
            "display": null,
            "flex": null,
            "flex_flow": null,
            "grid_area": null,
            "grid_auto_columns": null,
            "grid_auto_flow": null,
            "grid_auto_rows": null,
            "grid_column": null,
            "grid_gap": null,
            "grid_row": null,
            "grid_template_areas": null,
            "grid_template_columns": null,
            "grid_template_rows": null,
            "height": null,
            "justify_content": null,
            "justify_items": null,
            "left": null,
            "margin": null,
            "max_height": null,
            "max_width": null,
            "min_height": null,
            "min_width": null,
            "object_fit": null,
            "object_position": null,
            "order": null,
            "overflow": null,
            "overflow_x": null,
            "overflow_y": null,
            "padding": null,
            "right": null,
            "top": null,
            "visibility": null,
            "width": null
          }
        },
        "634b603a96d24210a015115eeeb438ba": {
          "model_module": "@jupyter-widgets/controls",
          "model_name": "DescriptionStyleModel",
          "model_module_version": "1.5.0",
          "state": {
            "_model_module": "@jupyter-widgets/controls",
            "_model_module_version": "1.5.0",
            "_model_name": "DescriptionStyleModel",
            "_view_count": null,
            "_view_module": "@jupyter-widgets/base",
            "_view_module_version": "1.2.0",
            "_view_name": "StyleView",
            "description_width": ""
          }
        },
        "0cdb77c154074059b66e81b7a5616f2a": {
          "model_module": "@jupyter-widgets/base",
          "model_name": "LayoutModel",
          "model_module_version": "1.2.0",
          "state": {
            "_model_module": "@jupyter-widgets/base",
            "_model_module_version": "1.2.0",
            "_model_name": "LayoutModel",
            "_view_count": null,
            "_view_module": "@jupyter-widgets/base",
            "_view_module_version": "1.2.0",
            "_view_name": "LayoutView",
            "align_content": null,
            "align_items": null,
            "align_self": null,
            "border": null,
            "bottom": null,
            "display": null,
            "flex": null,
            "flex_flow": null,
            "grid_area": null,
            "grid_auto_columns": null,
            "grid_auto_flow": null,
            "grid_auto_rows": null,
            "grid_column": null,
            "grid_gap": null,
            "grid_row": null,
            "grid_template_areas": null,
            "grid_template_columns": null,
            "grid_template_rows": null,
            "height": null,
            "justify_content": null,
            "justify_items": null,
            "left": null,
            "margin": null,
            "max_height": null,
            "max_width": null,
            "min_height": null,
            "min_width": null,
            "object_fit": null,
            "object_position": null,
            "order": null,
            "overflow": null,
            "overflow_x": null,
            "overflow_y": null,
            "padding": null,
            "right": null,
            "top": null,
            "visibility": null,
            "width": null
          }
        },
        "6fe25d76a83d4bffb4e4d9512fb16e7e": {
          "model_module": "@jupyter-widgets/controls",
          "model_name": "ProgressStyleModel",
          "model_module_version": "1.5.0",
          "state": {
            "_model_module": "@jupyter-widgets/controls",
            "_model_module_version": "1.5.0",
            "_model_name": "ProgressStyleModel",
            "_view_count": null,
            "_view_module": "@jupyter-widgets/base",
            "_view_module_version": "1.2.0",
            "_view_name": "StyleView",
            "bar_color": null,
            "description_width": ""
          }
        },
        "a7dcc267b79748d987e395a3d5451fed": {
          "model_module": "@jupyter-widgets/base",
          "model_name": "LayoutModel",
          "model_module_version": "1.2.0",
          "state": {
            "_model_module": "@jupyter-widgets/base",
            "_model_module_version": "1.2.0",
            "_model_name": "LayoutModel",
            "_view_count": null,
            "_view_module": "@jupyter-widgets/base",
            "_view_module_version": "1.2.0",
            "_view_name": "LayoutView",
            "align_content": null,
            "align_items": null,
            "align_self": null,
            "border": null,
            "bottom": null,
            "display": null,
            "flex": null,
            "flex_flow": null,
            "grid_area": null,
            "grid_auto_columns": null,
            "grid_auto_flow": null,
            "grid_auto_rows": null,
            "grid_column": null,
            "grid_gap": null,
            "grid_row": null,
            "grid_template_areas": null,
            "grid_template_columns": null,
            "grid_template_rows": null,
            "height": null,
            "justify_content": null,
            "justify_items": null,
            "left": null,
            "margin": null,
            "max_height": null,
            "max_width": null,
            "min_height": null,
            "min_width": null,
            "object_fit": null,
            "object_position": null,
            "order": null,
            "overflow": null,
            "overflow_x": null,
            "overflow_y": null,
            "padding": null,
            "right": null,
            "top": null,
            "visibility": null,
            "width": null
          }
        },
        "86c7a25e84e34c9e9deb2c97e4d34a92": {
          "model_module": "@jupyter-widgets/controls",
          "model_name": "DescriptionStyleModel",
          "model_module_version": "1.5.0",
          "state": {
            "_model_module": "@jupyter-widgets/controls",
            "_model_module_version": "1.5.0",
            "_model_name": "DescriptionStyleModel",
            "_view_count": null,
            "_view_module": "@jupyter-widgets/base",
            "_view_module_version": "1.2.0",
            "_view_name": "StyleView",
            "description_width": ""
          }
        },
        "6a6f22b902084075b508834678356ecf": {
          "model_module": "@jupyter-widgets/controls",
          "model_name": "HBoxModel",
          "model_module_version": "1.5.0",
          "state": {
            "_dom_classes": [],
            "_model_module": "@jupyter-widgets/controls",
            "_model_module_version": "1.5.0",
            "_model_name": "HBoxModel",
            "_view_count": null,
            "_view_module": "@jupyter-widgets/controls",
            "_view_module_version": "1.5.0",
            "_view_name": "HBoxView",
            "box_style": "",
            "children": [
              "IPY_MODEL_5fe2254de99146b6b339027d5abebf5a",
              "IPY_MODEL_3147078108f94c908b78133eee855b04",
              "IPY_MODEL_58ec1907537942cca022ef7dd2886f1d"
            ],
            "layout": "IPY_MODEL_9cd4f72918564e9d9cb201383d63fb34"
          }
        },
        "5fe2254de99146b6b339027d5abebf5a": {
          "model_module": "@jupyter-widgets/controls",
          "model_name": "HTMLModel",
          "model_module_version": "1.5.0",
          "state": {
            "_dom_classes": [],
            "_model_module": "@jupyter-widgets/controls",
            "_model_module_version": "1.5.0",
            "_model_name": "HTMLModel",
            "_view_count": null,
            "_view_module": "@jupyter-widgets/controls",
            "_view_module_version": "1.5.0",
            "_view_name": "HTMLView",
            "description": "",
            "description_tooltip": null,
            "layout": "IPY_MODEL_2a2a78ae335143f79da5cd984ca2fe5a",
            "placeholder": "​",
            "style": "IPY_MODEL_6b71ad1e7c534b3685a34ece4f8962d5",
            "value": "spiece.model: 100%"
          }
        },
        "3147078108f94c908b78133eee855b04": {
          "model_module": "@jupyter-widgets/controls",
          "model_name": "FloatProgressModel",
          "model_module_version": "1.5.0",
          "state": {
            "_dom_classes": [],
            "_model_module": "@jupyter-widgets/controls",
            "_model_module_version": "1.5.0",
            "_model_name": "FloatProgressModel",
            "_view_count": null,
            "_view_module": "@jupyter-widgets/controls",
            "_view_module_version": "1.5.0",
            "_view_name": "ProgressView",
            "bar_style": "success",
            "description": "",
            "description_tooltip": null,
            "layout": "IPY_MODEL_b3d6c863b0184b188137ca2b342bf9c4",
            "max": 760289,
            "min": 0,
            "orientation": "horizontal",
            "style": "IPY_MODEL_7581c59b3aa9486d89796a6501b00daf",
            "value": 760289
          }
        },
        "58ec1907537942cca022ef7dd2886f1d": {
          "model_module": "@jupyter-widgets/controls",
          "model_name": "HTMLModel",
          "model_module_version": "1.5.0",
          "state": {
            "_dom_classes": [],
            "_model_module": "@jupyter-widgets/controls",
            "_model_module_version": "1.5.0",
            "_model_name": "HTMLModel",
            "_view_count": null,
            "_view_module": "@jupyter-widgets/controls",
            "_view_module_version": "1.5.0",
            "_view_name": "HTMLView",
            "description": "",
            "description_tooltip": null,
            "layout": "IPY_MODEL_76e6e386ad6844b8982842ffd3c74769",
            "placeholder": "​",
            "style": "IPY_MODEL_9d103d54f0b6419a9fa2f332173e53d7",
            "value": " 760k/760k [00:00&lt;00:00, 3.31MB/s]"
          }
        },
        "9cd4f72918564e9d9cb201383d63fb34": {
          "model_module": "@jupyter-widgets/base",
          "model_name": "LayoutModel",
          "model_module_version": "1.2.0",
          "state": {
            "_model_module": "@jupyter-widgets/base",
            "_model_module_version": "1.2.0",
            "_model_name": "LayoutModel",
            "_view_count": null,
            "_view_module": "@jupyter-widgets/base",
            "_view_module_version": "1.2.0",
            "_view_name": "LayoutView",
            "align_content": null,
            "align_items": null,
            "align_self": null,
            "border": null,
            "bottom": null,
            "display": null,
            "flex": null,
            "flex_flow": null,
            "grid_area": null,
            "grid_auto_columns": null,
            "grid_auto_flow": null,
            "grid_auto_rows": null,
            "grid_column": null,
            "grid_gap": null,
            "grid_row": null,
            "grid_template_areas": null,
            "grid_template_columns": null,
            "grid_template_rows": null,
            "height": null,
            "justify_content": null,
            "justify_items": null,
            "left": null,
            "margin": null,
            "max_height": null,
            "max_width": null,
            "min_height": null,
            "min_width": null,
            "object_fit": null,
            "object_position": null,
            "order": null,
            "overflow": null,
            "overflow_x": null,
            "overflow_y": null,
            "padding": null,
            "right": null,
            "top": null,
            "visibility": null,
            "width": null
          }
        },
        "2a2a78ae335143f79da5cd984ca2fe5a": {
          "model_module": "@jupyter-widgets/base",
          "model_name": "LayoutModel",
          "model_module_version": "1.2.0",
          "state": {
            "_model_module": "@jupyter-widgets/base",
            "_model_module_version": "1.2.0",
            "_model_name": "LayoutModel",
            "_view_count": null,
            "_view_module": "@jupyter-widgets/base",
            "_view_module_version": "1.2.0",
            "_view_name": "LayoutView",
            "align_content": null,
            "align_items": null,
            "align_self": null,
            "border": null,
            "bottom": null,
            "display": null,
            "flex": null,
            "flex_flow": null,
            "grid_area": null,
            "grid_auto_columns": null,
            "grid_auto_flow": null,
            "grid_auto_rows": null,
            "grid_column": null,
            "grid_gap": null,
            "grid_row": null,
            "grid_template_areas": null,
            "grid_template_columns": null,
            "grid_template_rows": null,
            "height": null,
            "justify_content": null,
            "justify_items": null,
            "left": null,
            "margin": null,
            "max_height": null,
            "max_width": null,
            "min_height": null,
            "min_width": null,
            "object_fit": null,
            "object_position": null,
            "order": null,
            "overflow": null,
            "overflow_x": null,
            "overflow_y": null,
            "padding": null,
            "right": null,
            "top": null,
            "visibility": null,
            "width": null
          }
        },
        "6b71ad1e7c534b3685a34ece4f8962d5": {
          "model_module": "@jupyter-widgets/controls",
          "model_name": "DescriptionStyleModel",
          "model_module_version": "1.5.0",
          "state": {
            "_model_module": "@jupyter-widgets/controls",
            "_model_module_version": "1.5.0",
            "_model_name": "DescriptionStyleModel",
            "_view_count": null,
            "_view_module": "@jupyter-widgets/base",
            "_view_module_version": "1.2.0",
            "_view_name": "StyleView",
            "description_width": ""
          }
        },
        "b3d6c863b0184b188137ca2b342bf9c4": {
          "model_module": "@jupyter-widgets/base",
          "model_name": "LayoutModel",
          "model_module_version": "1.2.0",
          "state": {
            "_model_module": "@jupyter-widgets/base",
            "_model_module_version": "1.2.0",
            "_model_name": "LayoutModel",
            "_view_count": null,
            "_view_module": "@jupyter-widgets/base",
            "_view_module_version": "1.2.0",
            "_view_name": "LayoutView",
            "align_content": null,
            "align_items": null,
            "align_self": null,
            "border": null,
            "bottom": null,
            "display": null,
            "flex": null,
            "flex_flow": null,
            "grid_area": null,
            "grid_auto_columns": null,
            "grid_auto_flow": null,
            "grid_auto_rows": null,
            "grid_column": null,
            "grid_gap": null,
            "grid_row": null,
            "grid_template_areas": null,
            "grid_template_columns": null,
            "grid_template_rows": null,
            "height": null,
            "justify_content": null,
            "justify_items": null,
            "left": null,
            "margin": null,
            "max_height": null,
            "max_width": null,
            "min_height": null,
            "min_width": null,
            "object_fit": null,
            "object_position": null,
            "order": null,
            "overflow": null,
            "overflow_x": null,
            "overflow_y": null,
            "padding": null,
            "right": null,
            "top": null,
            "visibility": null,
            "width": null
          }
        },
        "7581c59b3aa9486d89796a6501b00daf": {
          "model_module": "@jupyter-widgets/controls",
          "model_name": "ProgressStyleModel",
          "model_module_version": "1.5.0",
          "state": {
            "_model_module": "@jupyter-widgets/controls",
            "_model_module_version": "1.5.0",
            "_model_name": "ProgressStyleModel",
            "_view_count": null,
            "_view_module": "@jupyter-widgets/base",
            "_view_module_version": "1.2.0",
            "_view_name": "StyleView",
            "bar_color": null,
            "description_width": ""
          }
        },
        "76e6e386ad6844b8982842ffd3c74769": {
          "model_module": "@jupyter-widgets/base",
          "model_name": "LayoutModel",
          "model_module_version": "1.2.0",
          "state": {
            "_model_module": "@jupyter-widgets/base",
            "_model_module_version": "1.2.0",
            "_model_name": "LayoutModel",
            "_view_count": null,
            "_view_module": "@jupyter-widgets/base",
            "_view_module_version": "1.2.0",
            "_view_name": "LayoutView",
            "align_content": null,
            "align_items": null,
            "align_self": null,
            "border": null,
            "bottom": null,
            "display": null,
            "flex": null,
            "flex_flow": null,
            "grid_area": null,
            "grid_auto_columns": null,
            "grid_auto_flow": null,
            "grid_auto_rows": null,
            "grid_column": null,
            "grid_gap": null,
            "grid_row": null,
            "grid_template_areas": null,
            "grid_template_columns": null,
            "grid_template_rows": null,
            "height": null,
            "justify_content": null,
            "justify_items": null,
            "left": null,
            "margin": null,
            "max_height": null,
            "max_width": null,
            "min_height": null,
            "min_width": null,
            "object_fit": null,
            "object_position": null,
            "order": null,
            "overflow": null,
            "overflow_x": null,
            "overflow_y": null,
            "padding": null,
            "right": null,
            "top": null,
            "visibility": null,
            "width": null
          }
        },
        "9d103d54f0b6419a9fa2f332173e53d7": {
          "model_module": "@jupyter-widgets/controls",
          "model_name": "DescriptionStyleModel",
          "model_module_version": "1.5.0",
          "state": {
            "_model_module": "@jupyter-widgets/controls",
            "_model_module_version": "1.5.0",
            "_model_name": "DescriptionStyleModel",
            "_view_count": null,
            "_view_module": "@jupyter-widgets/base",
            "_view_module_version": "1.2.0",
            "_view_name": "StyleView",
            "description_width": ""
          }
        },
        "352eb9ccd35540ba9291e61d7d0a76ad": {
          "model_module": "@jupyter-widgets/controls",
          "model_name": "HBoxModel",
          "model_module_version": "1.5.0",
          "state": {
            "_dom_classes": [],
            "_model_module": "@jupyter-widgets/controls",
            "_model_module_version": "1.5.0",
            "_model_name": "HBoxModel",
            "_view_count": null,
            "_view_module": "@jupyter-widgets/controls",
            "_view_module_version": "1.5.0",
            "_view_name": "HBoxView",
            "box_style": "",
            "children": [
              "IPY_MODEL_618573f7e3c344ec8480a155bba4d835",
              "IPY_MODEL_104360c3dbf2483c9856ad3cd47d3d0c",
              "IPY_MODEL_9c11c01992964a2db43138e000431757"
            ],
            "layout": "IPY_MODEL_83de276b5a4a421cb1a8285268b0245e"
          }
        },
        "618573f7e3c344ec8480a155bba4d835": {
          "model_module": "@jupyter-widgets/controls",
          "model_name": "HTMLModel",
          "model_module_version": "1.5.0",
          "state": {
            "_dom_classes": [],
            "_model_module": "@jupyter-widgets/controls",
            "_model_module_version": "1.5.0",
            "_model_name": "HTMLModel",
            "_view_count": null,
            "_view_module": "@jupyter-widgets/controls",
            "_view_module_version": "1.5.0",
            "_view_name": "HTMLView",
            "description": "",
            "description_tooltip": null,
            "layout": "IPY_MODEL_2b6199cb59754d7e99088ebcb2eb6f27",
            "placeholder": "​",
            "style": "IPY_MODEL_49a34f9c96c94ce9805bbf3c78b3fcc1",
            "value": "tokenizer.json: 100%"
          }
        },
        "104360c3dbf2483c9856ad3cd47d3d0c": {
          "model_module": "@jupyter-widgets/controls",
          "model_name": "FloatProgressModel",
          "model_module_version": "1.5.0",
          "state": {
            "_dom_classes": [],
            "_model_module": "@jupyter-widgets/controls",
            "_model_module_version": "1.5.0",
            "_model_name": "FloatProgressModel",
            "_view_count": null,
            "_view_module": "@jupyter-widgets/controls",
            "_view_module_version": "1.5.0",
            "_view_name": "ProgressView",
            "bar_style": "success",
            "description": "",
            "description_tooltip": null,
            "layout": "IPY_MODEL_f1e237d680dc4a389d6f9d3ecf850eb6",
            "max": 1312669,
            "min": 0,
            "orientation": "horizontal",
            "style": "IPY_MODEL_10e9fbd57470444c97b926cbdf747e9e",
            "value": 1312669
          }
        },
        "9c11c01992964a2db43138e000431757": {
          "model_module": "@jupyter-widgets/controls",
          "model_name": "HTMLModel",
          "model_module_version": "1.5.0",
          "state": {
            "_dom_classes": [],
            "_model_module": "@jupyter-widgets/controls",
            "_model_module_version": "1.5.0",
            "_model_name": "HTMLModel",
            "_view_count": null,
            "_view_module": "@jupyter-widgets/controls",
            "_view_module_version": "1.5.0",
            "_view_name": "HTMLView",
            "description": "",
            "description_tooltip": null,
            "layout": "IPY_MODEL_759612a04011402abe4ee3f412e0d71d",
            "placeholder": "​",
            "style": "IPY_MODEL_56e4cf559cd34bb8879101e4276930e5",
            "value": " 1.31M/1.31M [00:00&lt;00:00, 6.26MB/s]"
          }
        },
        "83de276b5a4a421cb1a8285268b0245e": {
          "model_module": "@jupyter-widgets/base",
          "model_name": "LayoutModel",
          "model_module_version": "1.2.0",
          "state": {
            "_model_module": "@jupyter-widgets/base",
            "_model_module_version": "1.2.0",
            "_model_name": "LayoutModel",
            "_view_count": null,
            "_view_module": "@jupyter-widgets/base",
            "_view_module_version": "1.2.0",
            "_view_name": "LayoutView",
            "align_content": null,
            "align_items": null,
            "align_self": null,
            "border": null,
            "bottom": null,
            "display": null,
            "flex": null,
            "flex_flow": null,
            "grid_area": null,
            "grid_auto_columns": null,
            "grid_auto_flow": null,
            "grid_auto_rows": null,
            "grid_column": null,
            "grid_gap": null,
            "grid_row": null,
            "grid_template_areas": null,
            "grid_template_columns": null,
            "grid_template_rows": null,
            "height": null,
            "justify_content": null,
            "justify_items": null,
            "left": null,
            "margin": null,
            "max_height": null,
            "max_width": null,
            "min_height": null,
            "min_width": null,
            "object_fit": null,
            "object_position": null,
            "order": null,
            "overflow": null,
            "overflow_x": null,
            "overflow_y": null,
            "padding": null,
            "right": null,
            "top": null,
            "visibility": null,
            "width": null
          }
        },
        "2b6199cb59754d7e99088ebcb2eb6f27": {
          "model_module": "@jupyter-widgets/base",
          "model_name": "LayoutModel",
          "model_module_version": "1.2.0",
          "state": {
            "_model_module": "@jupyter-widgets/base",
            "_model_module_version": "1.2.0",
            "_model_name": "LayoutModel",
            "_view_count": null,
            "_view_module": "@jupyter-widgets/base",
            "_view_module_version": "1.2.0",
            "_view_name": "LayoutView",
            "align_content": null,
            "align_items": null,
            "align_self": null,
            "border": null,
            "bottom": null,
            "display": null,
            "flex": null,
            "flex_flow": null,
            "grid_area": null,
            "grid_auto_columns": null,
            "grid_auto_flow": null,
            "grid_auto_rows": null,
            "grid_column": null,
            "grid_gap": null,
            "grid_row": null,
            "grid_template_areas": null,
            "grid_template_columns": null,
            "grid_template_rows": null,
            "height": null,
            "justify_content": null,
            "justify_items": null,
            "left": null,
            "margin": null,
            "max_height": null,
            "max_width": null,
            "min_height": null,
            "min_width": null,
            "object_fit": null,
            "object_position": null,
            "order": null,
            "overflow": null,
            "overflow_x": null,
            "overflow_y": null,
            "padding": null,
            "right": null,
            "top": null,
            "visibility": null,
            "width": null
          }
        },
        "49a34f9c96c94ce9805bbf3c78b3fcc1": {
          "model_module": "@jupyter-widgets/controls",
          "model_name": "DescriptionStyleModel",
          "model_module_version": "1.5.0",
          "state": {
            "_model_module": "@jupyter-widgets/controls",
            "_model_module_version": "1.5.0",
            "_model_name": "DescriptionStyleModel",
            "_view_count": null,
            "_view_module": "@jupyter-widgets/base",
            "_view_module_version": "1.2.0",
            "_view_name": "StyleView",
            "description_width": ""
          }
        },
        "f1e237d680dc4a389d6f9d3ecf850eb6": {
          "model_module": "@jupyter-widgets/base",
          "model_name": "LayoutModel",
          "model_module_version": "1.2.0",
          "state": {
            "_model_module": "@jupyter-widgets/base",
            "_model_module_version": "1.2.0",
            "_model_name": "LayoutModel",
            "_view_count": null,
            "_view_module": "@jupyter-widgets/base",
            "_view_module_version": "1.2.0",
            "_view_name": "LayoutView",
            "align_content": null,
            "align_items": null,
            "align_self": null,
            "border": null,
            "bottom": null,
            "display": null,
            "flex": null,
            "flex_flow": null,
            "grid_area": null,
            "grid_auto_columns": null,
            "grid_auto_flow": null,
            "grid_auto_rows": null,
            "grid_column": null,
            "grid_gap": null,
            "grid_row": null,
            "grid_template_areas": null,
            "grid_template_columns": null,
            "grid_template_rows": null,
            "height": null,
            "justify_content": null,
            "justify_items": null,
            "left": null,
            "margin": null,
            "max_height": null,
            "max_width": null,
            "min_height": null,
            "min_width": null,
            "object_fit": null,
            "object_position": null,
            "order": null,
            "overflow": null,
            "overflow_x": null,
            "overflow_y": null,
            "padding": null,
            "right": null,
            "top": null,
            "visibility": null,
            "width": null
          }
        },
        "10e9fbd57470444c97b926cbdf747e9e": {
          "model_module": "@jupyter-widgets/controls",
          "model_name": "ProgressStyleModel",
          "model_module_version": "1.5.0",
          "state": {
            "_model_module": "@jupyter-widgets/controls",
            "_model_module_version": "1.5.0",
            "_model_name": "ProgressStyleModel",
            "_view_count": null,
            "_view_module": "@jupyter-widgets/base",
            "_view_module_version": "1.2.0",
            "_view_name": "StyleView",
            "bar_color": null,
            "description_width": ""
          }
        },
        "759612a04011402abe4ee3f412e0d71d": {
          "model_module": "@jupyter-widgets/base",
          "model_name": "LayoutModel",
          "model_module_version": "1.2.0",
          "state": {
            "_model_module": "@jupyter-widgets/base",
            "_model_module_version": "1.2.0",
            "_model_name": "LayoutModel",
            "_view_count": null,
            "_view_module": "@jupyter-widgets/base",
            "_view_module_version": "1.2.0",
            "_view_name": "LayoutView",
            "align_content": null,
            "align_items": null,
            "align_self": null,
            "border": null,
            "bottom": null,
            "display": null,
            "flex": null,
            "flex_flow": null,
            "grid_area": null,
            "grid_auto_columns": null,
            "grid_auto_flow": null,
            "grid_auto_rows": null,
            "grid_column": null,
            "grid_gap": null,
            "grid_row": null,
            "grid_template_areas": null,
            "grid_template_columns": null,
            "grid_template_rows": null,
            "height": null,
            "justify_content": null,
            "justify_items": null,
            "left": null,
            "margin": null,
            "max_height": null,
            "max_width": null,
            "min_height": null,
            "min_width": null,
            "object_fit": null,
            "object_position": null,
            "order": null,
            "overflow": null,
            "overflow_x": null,
            "overflow_y": null,
            "padding": null,
            "right": null,
            "top": null,
            "visibility": null,
            "width": null
          }
        },
        "56e4cf559cd34bb8879101e4276930e5": {
          "model_module": "@jupyter-widgets/controls",
          "model_name": "DescriptionStyleModel",
          "model_module_version": "1.5.0",
          "state": {
            "_model_module": "@jupyter-widgets/controls",
            "_model_module_version": "1.5.0",
            "_model_name": "DescriptionStyleModel",
            "_view_count": null,
            "_view_module": "@jupyter-widgets/base",
            "_view_module_version": "1.2.0",
            "_view_name": "StyleView",
            "description_width": ""
          }
        },
        "9231628d25c1483bbbcfde3e58978099": {
          "model_module": "@jupyter-widgets/controls",
          "model_name": "HBoxModel",
          "model_module_version": "1.5.0",
          "state": {
            "_dom_classes": [],
            "_model_module": "@jupyter-widgets/controls",
            "_model_module_version": "1.5.0",
            "_model_name": "HBoxModel",
            "_view_count": null,
            "_view_module": "@jupyter-widgets/controls",
            "_view_module_version": "1.5.0",
            "_view_name": "HBoxView",
            "box_style": "",
            "children": [
              "IPY_MODEL_08480f0c64b4402691810136b2ff8d5d",
              "IPY_MODEL_6cd1673444ac461a8ddb000c9ab8c76c",
              "IPY_MODEL_de332289c92949359ec5d60c24f106cf"
            ],
            "layout": "IPY_MODEL_481c04111a344a989b57cf7dedb91c08"
          }
        },
        "08480f0c64b4402691810136b2ff8d5d": {
          "model_module": "@jupyter-widgets/controls",
          "model_name": "HTMLModel",
          "model_module_version": "1.5.0",
          "state": {
            "_dom_classes": [],
            "_model_module": "@jupyter-widgets/controls",
            "_model_module_version": "1.5.0",
            "_model_name": "HTMLModel",
            "_view_count": null,
            "_view_module": "@jupyter-widgets/controls",
            "_view_module_version": "1.5.0",
            "_view_name": "HTMLView",
            "description": "",
            "description_tooltip": null,
            "layout": "IPY_MODEL_dcad324581124cae9d59248aa73a96da",
            "placeholder": "​",
            "style": "IPY_MODEL_9985bdecd58749119f427b172a8f3cb8",
            "value": "config.json: 100%"
          }
        },
        "6cd1673444ac461a8ddb000c9ab8c76c": {
          "model_module": "@jupyter-widgets/controls",
          "model_name": "FloatProgressModel",
          "model_module_version": "1.5.0",
          "state": {
            "_dom_classes": [],
            "_model_module": "@jupyter-widgets/controls",
            "_model_module_version": "1.5.0",
            "_model_name": "FloatProgressModel",
            "_view_count": null,
            "_view_module": "@jupyter-widgets/controls",
            "_view_module_version": "1.5.0",
            "_view_name": "ProgressView",
            "bar_style": "success",
            "description": "",
            "description_tooltip": null,
            "layout": "IPY_MODEL_4dbd728be9554b8a9b168ef63a406eec",
            "max": 684,
            "min": 0,
            "orientation": "horizontal",
            "style": "IPY_MODEL_415086418ce147028b1dcb634478d207",
            "value": 684
          }
        },
        "de332289c92949359ec5d60c24f106cf": {
          "model_module": "@jupyter-widgets/controls",
          "model_name": "HTMLModel",
          "model_module_version": "1.5.0",
          "state": {
            "_dom_classes": [],
            "_model_module": "@jupyter-widgets/controls",
            "_model_module_version": "1.5.0",
            "_model_name": "HTMLModel",
            "_view_count": null,
            "_view_module": "@jupyter-widgets/controls",
            "_view_module_version": "1.5.0",
            "_view_name": "HTMLView",
            "description": "",
            "description_tooltip": null,
            "layout": "IPY_MODEL_39d009e0e8a648e594e22bc5c330d9cf",
            "placeholder": "​",
            "style": "IPY_MODEL_ff80197a7198450eb99eaafe0ca2d598",
            "value": " 684/684 [00:00&lt;00:00, 42.7kB/s]"
          }
        },
        "481c04111a344a989b57cf7dedb91c08": {
          "model_module": "@jupyter-widgets/base",
          "model_name": "LayoutModel",
          "model_module_version": "1.2.0",
          "state": {
            "_model_module": "@jupyter-widgets/base",
            "_model_module_version": "1.2.0",
            "_model_name": "LayoutModel",
            "_view_count": null,
            "_view_module": "@jupyter-widgets/base",
            "_view_module_version": "1.2.0",
            "_view_name": "LayoutView",
            "align_content": null,
            "align_items": null,
            "align_self": null,
            "border": null,
            "bottom": null,
            "display": null,
            "flex": null,
            "flex_flow": null,
            "grid_area": null,
            "grid_auto_columns": null,
            "grid_auto_flow": null,
            "grid_auto_rows": null,
            "grid_column": null,
            "grid_gap": null,
            "grid_row": null,
            "grid_template_areas": null,
            "grid_template_columns": null,
            "grid_template_rows": null,
            "height": null,
            "justify_content": null,
            "justify_items": null,
            "left": null,
            "margin": null,
            "max_height": null,
            "max_width": null,
            "min_height": null,
            "min_width": null,
            "object_fit": null,
            "object_position": null,
            "order": null,
            "overflow": null,
            "overflow_x": null,
            "overflow_y": null,
            "padding": null,
            "right": null,
            "top": null,
            "visibility": null,
            "width": null
          }
        },
        "dcad324581124cae9d59248aa73a96da": {
          "model_module": "@jupyter-widgets/base",
          "model_name": "LayoutModel",
          "model_module_version": "1.2.0",
          "state": {
            "_model_module": "@jupyter-widgets/base",
            "_model_module_version": "1.2.0",
            "_model_name": "LayoutModel",
            "_view_count": null,
            "_view_module": "@jupyter-widgets/base",
            "_view_module_version": "1.2.0",
            "_view_name": "LayoutView",
            "align_content": null,
            "align_items": null,
            "align_self": null,
            "border": null,
            "bottom": null,
            "display": null,
            "flex": null,
            "flex_flow": null,
            "grid_area": null,
            "grid_auto_columns": null,
            "grid_auto_flow": null,
            "grid_auto_rows": null,
            "grid_column": null,
            "grid_gap": null,
            "grid_row": null,
            "grid_template_areas": null,
            "grid_template_columns": null,
            "grid_template_rows": null,
            "height": null,
            "justify_content": null,
            "justify_items": null,
            "left": null,
            "margin": null,
            "max_height": null,
            "max_width": null,
            "min_height": null,
            "min_width": null,
            "object_fit": null,
            "object_position": null,
            "order": null,
            "overflow": null,
            "overflow_x": null,
            "overflow_y": null,
            "padding": null,
            "right": null,
            "top": null,
            "visibility": null,
            "width": null
          }
        },
        "9985bdecd58749119f427b172a8f3cb8": {
          "model_module": "@jupyter-widgets/controls",
          "model_name": "DescriptionStyleModel",
          "model_module_version": "1.5.0",
          "state": {
            "_model_module": "@jupyter-widgets/controls",
            "_model_module_version": "1.5.0",
            "_model_name": "DescriptionStyleModel",
            "_view_count": null,
            "_view_module": "@jupyter-widgets/base",
            "_view_module_version": "1.2.0",
            "_view_name": "StyleView",
            "description_width": ""
          }
        },
        "4dbd728be9554b8a9b168ef63a406eec": {
          "model_module": "@jupyter-widgets/base",
          "model_name": "LayoutModel",
          "model_module_version": "1.2.0",
          "state": {
            "_model_module": "@jupyter-widgets/base",
            "_model_module_version": "1.2.0",
            "_model_name": "LayoutModel",
            "_view_count": null,
            "_view_module": "@jupyter-widgets/base",
            "_view_module_version": "1.2.0",
            "_view_name": "LayoutView",
            "align_content": null,
            "align_items": null,
            "align_self": null,
            "border": null,
            "bottom": null,
            "display": null,
            "flex": null,
            "flex_flow": null,
            "grid_area": null,
            "grid_auto_columns": null,
            "grid_auto_flow": null,
            "grid_auto_rows": null,
            "grid_column": null,
            "grid_gap": null,
            "grid_row": null,
            "grid_template_areas": null,
            "grid_template_columns": null,
            "grid_template_rows": null,
            "height": null,
            "justify_content": null,
            "justify_items": null,
            "left": null,
            "margin": null,
            "max_height": null,
            "max_width": null,
            "min_height": null,
            "min_width": null,
            "object_fit": null,
            "object_position": null,
            "order": null,
            "overflow": null,
            "overflow_x": null,
            "overflow_y": null,
            "padding": null,
            "right": null,
            "top": null,
            "visibility": null,
            "width": null
          }
        },
        "415086418ce147028b1dcb634478d207": {
          "model_module": "@jupyter-widgets/controls",
          "model_name": "ProgressStyleModel",
          "model_module_version": "1.5.0",
          "state": {
            "_model_module": "@jupyter-widgets/controls",
            "_model_module_version": "1.5.0",
            "_model_name": "ProgressStyleModel",
            "_view_count": null,
            "_view_module": "@jupyter-widgets/base",
            "_view_module_version": "1.2.0",
            "_view_name": "StyleView",
            "bar_color": null,
            "description_width": ""
          }
        },
        "39d009e0e8a648e594e22bc5c330d9cf": {
          "model_module": "@jupyter-widgets/base",
          "model_name": "LayoutModel",
          "model_module_version": "1.2.0",
          "state": {
            "_model_module": "@jupyter-widgets/base",
            "_model_module_version": "1.2.0",
            "_model_name": "LayoutModel",
            "_view_count": null,
            "_view_module": "@jupyter-widgets/base",
            "_view_module_version": "1.2.0",
            "_view_name": "LayoutView",
            "align_content": null,
            "align_items": null,
            "align_self": null,
            "border": null,
            "bottom": null,
            "display": null,
            "flex": null,
            "flex_flow": null,
            "grid_area": null,
            "grid_auto_columns": null,
            "grid_auto_flow": null,
            "grid_auto_rows": null,
            "grid_column": null,
            "grid_gap": null,
            "grid_row": null,
            "grid_template_areas": null,
            "grid_template_columns": null,
            "grid_template_rows": null,
            "height": null,
            "justify_content": null,
            "justify_items": null,
            "left": null,
            "margin": null,
            "max_height": null,
            "max_width": null,
            "min_height": null,
            "min_width": null,
            "object_fit": null,
            "object_position": null,
            "order": null,
            "overflow": null,
            "overflow_x": null,
            "overflow_y": null,
            "padding": null,
            "right": null,
            "top": null,
            "visibility": null,
            "width": null
          }
        },
        "ff80197a7198450eb99eaafe0ca2d598": {
          "model_module": "@jupyter-widgets/controls",
          "model_name": "DescriptionStyleModel",
          "model_module_version": "1.5.0",
          "state": {
            "_model_module": "@jupyter-widgets/controls",
            "_model_module_version": "1.5.0",
            "_model_name": "DescriptionStyleModel",
            "_view_count": null,
            "_view_module": "@jupyter-widgets/base",
            "_view_module_version": "1.2.0",
            "_view_name": "StyleView",
            "description_width": ""
          }
        },
        "ed7c7bb2b6054d238d015ebea8574ff2": {
          "model_module": "@jupyter-widgets/controls",
          "model_name": "HBoxModel",
          "model_module_version": "1.5.0",
          "state": {
            "_dom_classes": [],
            "_model_module": "@jupyter-widgets/controls",
            "_model_module_version": "1.5.0",
            "_model_name": "HBoxModel",
            "_view_count": null,
            "_view_module": "@jupyter-widgets/controls",
            "_view_module_version": "1.5.0",
            "_view_name": "HBoxView",
            "box_style": "",
            "children": [
              "IPY_MODEL_f5691b0f85694537b3bbb0a675ef1cca",
              "IPY_MODEL_0ac010414cf44ebcaaab6589f02a8559",
              "IPY_MODEL_7c179d4690904232ae42daf207ae8cd8"
            ],
            "layout": "IPY_MODEL_0248f00acab649dba33bee7bbda4d336"
          }
        },
        "f5691b0f85694537b3bbb0a675ef1cca": {
          "model_module": "@jupyter-widgets/controls",
          "model_name": "HTMLModel",
          "model_module_version": "1.5.0",
          "state": {
            "_dom_classes": [],
            "_model_module": "@jupyter-widgets/controls",
            "_model_module_version": "1.5.0",
            "_model_name": "HTMLModel",
            "_view_count": null,
            "_view_module": "@jupyter-widgets/controls",
            "_view_module_version": "1.5.0",
            "_view_name": "HTMLView",
            "description": "",
            "description_tooltip": null,
            "layout": "IPY_MODEL_26a1bc325c544e8886687d057281567d",
            "placeholder": "​",
            "style": "IPY_MODEL_2e8f92542afa41eab278845edd4d8f86",
            "value": "model.safetensors: 100%"
          }
        },
        "0ac010414cf44ebcaaab6589f02a8559": {
          "model_module": "@jupyter-widgets/controls",
          "model_name": "FloatProgressModel",
          "model_module_version": "1.5.0",
          "state": {
            "_dom_classes": [],
            "_model_module": "@jupyter-widgets/controls",
            "_model_module_version": "1.5.0",
            "_model_name": "FloatProgressModel",
            "_view_count": null,
            "_view_module": "@jupyter-widgets/controls",
            "_view_module_version": "1.5.0",
            "_view_name": "ProgressView",
            "bar_style": "success",
            "description": "",
            "description_tooltip": null,
            "layout": "IPY_MODEL_9e6196f9a3974c3184148470c7084dca",
            "max": 47372894,
            "min": 0,
            "orientation": "horizontal",
            "style": "IPY_MODEL_038930646edb4984bb6831841fc77981",
            "value": 47372894
          }
        },
        "7c179d4690904232ae42daf207ae8cd8": {
          "model_module": "@jupyter-widgets/controls",
          "model_name": "HTMLModel",
          "model_module_version": "1.5.0",
          "state": {
            "_dom_classes": [],
            "_model_module": "@jupyter-widgets/controls",
            "_model_module_version": "1.5.0",
            "_model_name": "HTMLModel",
            "_view_count": null,
            "_view_module": "@jupyter-widgets/controls",
            "_view_module_version": "1.5.0",
            "_view_name": "HTMLView",
            "description": "",
            "description_tooltip": null,
            "layout": "IPY_MODEL_852b53369e414c0b88c7b01dca685366",
            "placeholder": "​",
            "style": "IPY_MODEL_5c41d988ead14705a56d47655fabe2eb",
            "value": " 47.4M/47.4M [00:00&lt;00:00, 151MB/s]"
          }
        },
        "0248f00acab649dba33bee7bbda4d336": {
          "model_module": "@jupyter-widgets/base",
          "model_name": "LayoutModel",
          "model_module_version": "1.2.0",
          "state": {
            "_model_module": "@jupyter-widgets/base",
            "_model_module_version": "1.2.0",
            "_model_name": "LayoutModel",
            "_view_count": null,
            "_view_module": "@jupyter-widgets/base",
            "_view_module_version": "1.2.0",
            "_view_name": "LayoutView",
            "align_content": null,
            "align_items": null,
            "align_self": null,
            "border": null,
            "bottom": null,
            "display": null,
            "flex": null,
            "flex_flow": null,
            "grid_area": null,
            "grid_auto_columns": null,
            "grid_auto_flow": null,
            "grid_auto_rows": null,
            "grid_column": null,
            "grid_gap": null,
            "grid_row": null,
            "grid_template_areas": null,
            "grid_template_columns": null,
            "grid_template_rows": null,
            "height": null,
            "justify_content": null,
            "justify_items": null,
            "left": null,
            "margin": null,
            "max_height": null,
            "max_width": null,
            "min_height": null,
            "min_width": null,
            "object_fit": null,
            "object_position": null,
            "order": null,
            "overflow": null,
            "overflow_x": null,
            "overflow_y": null,
            "padding": null,
            "right": null,
            "top": null,
            "visibility": null,
            "width": null
          }
        },
        "26a1bc325c544e8886687d057281567d": {
          "model_module": "@jupyter-widgets/base",
          "model_name": "LayoutModel",
          "model_module_version": "1.2.0",
          "state": {
            "_model_module": "@jupyter-widgets/base",
            "_model_module_version": "1.2.0",
            "_model_name": "LayoutModel",
            "_view_count": null,
            "_view_module": "@jupyter-widgets/base",
            "_view_module_version": "1.2.0",
            "_view_name": "LayoutView",
            "align_content": null,
            "align_items": null,
            "align_self": null,
            "border": null,
            "bottom": null,
            "display": null,
            "flex": null,
            "flex_flow": null,
            "grid_area": null,
            "grid_auto_columns": null,
            "grid_auto_flow": null,
            "grid_auto_rows": null,
            "grid_column": null,
            "grid_gap": null,
            "grid_row": null,
            "grid_template_areas": null,
            "grid_template_columns": null,
            "grid_template_rows": null,
            "height": null,
            "justify_content": null,
            "justify_items": null,
            "left": null,
            "margin": null,
            "max_height": null,
            "max_width": null,
            "min_height": null,
            "min_width": null,
            "object_fit": null,
            "object_position": null,
            "order": null,
            "overflow": null,
            "overflow_x": null,
            "overflow_y": null,
            "padding": null,
            "right": null,
            "top": null,
            "visibility": null,
            "width": null
          }
        },
        "2e8f92542afa41eab278845edd4d8f86": {
          "model_module": "@jupyter-widgets/controls",
          "model_name": "DescriptionStyleModel",
          "model_module_version": "1.5.0",
          "state": {
            "_model_module": "@jupyter-widgets/controls",
            "_model_module_version": "1.5.0",
            "_model_name": "DescriptionStyleModel",
            "_view_count": null,
            "_view_module": "@jupyter-widgets/base",
            "_view_module_version": "1.2.0",
            "_view_name": "StyleView",
            "description_width": ""
          }
        },
        "9e6196f9a3974c3184148470c7084dca": {
          "model_module": "@jupyter-widgets/base",
          "model_name": "LayoutModel",
          "model_module_version": "1.2.0",
          "state": {
            "_model_module": "@jupyter-widgets/base",
            "_model_module_version": "1.2.0",
            "_model_name": "LayoutModel",
            "_view_count": null,
            "_view_module": "@jupyter-widgets/base",
            "_view_module_version": "1.2.0",
            "_view_name": "LayoutView",
            "align_content": null,
            "align_items": null,
            "align_self": null,
            "border": null,
            "bottom": null,
            "display": null,
            "flex": null,
            "flex_flow": null,
            "grid_area": null,
            "grid_auto_columns": null,
            "grid_auto_flow": null,
            "grid_auto_rows": null,
            "grid_column": null,
            "grid_gap": null,
            "grid_row": null,
            "grid_template_areas": null,
            "grid_template_columns": null,
            "grid_template_rows": null,
            "height": null,
            "justify_content": null,
            "justify_items": null,
            "left": null,
            "margin": null,
            "max_height": null,
            "max_width": null,
            "min_height": null,
            "min_width": null,
            "object_fit": null,
            "object_position": null,
            "order": null,
            "overflow": null,
            "overflow_x": null,
            "overflow_y": null,
            "padding": null,
            "right": null,
            "top": null,
            "visibility": null,
            "width": null
          }
        },
        "038930646edb4984bb6831841fc77981": {
          "model_module": "@jupyter-widgets/controls",
          "model_name": "ProgressStyleModel",
          "model_module_version": "1.5.0",
          "state": {
            "_model_module": "@jupyter-widgets/controls",
            "_model_module_version": "1.5.0",
            "_model_name": "ProgressStyleModel",
            "_view_count": null,
            "_view_module": "@jupyter-widgets/base",
            "_view_module_version": "1.2.0",
            "_view_name": "StyleView",
            "bar_color": null,
            "description_width": ""
          }
        },
        "852b53369e414c0b88c7b01dca685366": {
          "model_module": "@jupyter-widgets/base",
          "model_name": "LayoutModel",
          "model_module_version": "1.2.0",
          "state": {
            "_model_module": "@jupyter-widgets/base",
            "_model_module_version": "1.2.0",
            "_model_name": "LayoutModel",
            "_view_count": null,
            "_view_module": "@jupyter-widgets/base",
            "_view_module_version": "1.2.0",
            "_view_name": "LayoutView",
            "align_content": null,
            "align_items": null,
            "align_self": null,
            "border": null,
            "bottom": null,
            "display": null,
            "flex": null,
            "flex_flow": null,
            "grid_area": null,
            "grid_auto_columns": null,
            "grid_auto_flow": null,
            "grid_auto_rows": null,
            "grid_column": null,
            "grid_gap": null,
            "grid_row": null,
            "grid_template_areas": null,
            "grid_template_columns": null,
            "grid_template_rows": null,
            "height": null,
            "justify_content": null,
            "justify_items": null,
            "left": null,
            "margin": null,
            "max_height": null,
            "max_width": null,
            "min_height": null,
            "min_width": null,
            "object_fit": null,
            "object_position": null,
            "order": null,
            "overflow": null,
            "overflow_x": null,
            "overflow_y": null,
            "padding": null,
            "right": null,
            "top": null,
            "visibility": null,
            "width": null
          }
        },
        "5c41d988ead14705a56d47655fabe2eb": {
          "model_module": "@jupyter-widgets/controls",
          "model_name": "DescriptionStyleModel",
          "model_module_version": "1.5.0",
          "state": {
            "_model_module": "@jupyter-widgets/controls",
            "_model_module_version": "1.5.0",
            "_model_name": "DescriptionStyleModel",
            "_view_count": null,
            "_view_module": "@jupyter-widgets/base",
            "_view_module_version": "1.2.0",
            "_view_name": "StyleView",
            "description_width": ""
          }
        }
      }
    }
  },
  "nbformat": 4,
  "nbformat_minor": 0
}